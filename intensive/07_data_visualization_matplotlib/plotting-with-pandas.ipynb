{
 "cells": [
  {
   "cell_type": "markdown",
   "metadata": {},
   "source": [
    "# Data Visualization"
   ]
  },
  {
   "cell_type": "markdown",
   "metadata": {
    "heading_collapsed": true
   },
   "source": [
    "## Learning Goals"
   ]
  },
  {
   "cell_type": "markdown",
   "metadata": {
    "hidden": true
   },
   "source": [
    "- Understand why we visualize data\n",
    "- Recognize the different `matplotlib`-based ways we can create visualizations\n",
    "- Choose appropriate graph types based on data and problem context for explanatory visualizations\n",
    "- Use `matplotlib` syntax to adjust elements and improve visualizations\n",
    "- Create figures containing multiple graphs\n"
   ]
  },
  {
   "cell_type": "code",
   "execution_count": 1,
   "metadata": {},
   "outputs": [
    {
     "name": "stdout",
     "output_type": "stream",
     "text": [
      "Requirement already satisfied: pandas in c:\\users\\kdelgadoperez\\desktop\\flatiron_folder\\flatiron\\dsc-deloitteaia-021224-a\\.venv\\lib\\site-packages (2.2.0)\n",
      "Requirement already satisfied: numpy<2,>=1.23.2 in c:\\users\\kdelgadoperez\\desktop\\flatiron_folder\\flatiron\\dsc-deloitteaia-021224-a\\.venv\\lib\\site-packages (from pandas) (1.26.4)\n",
      "Requirement already satisfied: python-dateutil>=2.8.2 in c:\\users\\kdelgadoperez\\desktop\\flatiron_folder\\flatiron\\dsc-deloitteaia-021224-a\\.venv\\lib\\site-packages (from pandas) (2.8.2)\n",
      "Requirement already satisfied: pytz>=2020.1 in c:\\users\\kdelgadoperez\\desktop\\flatiron_folder\\flatiron\\dsc-deloitteaia-021224-a\\.venv\\lib\\site-packages (from pandas) (2024.1)\n",
      "Requirement already satisfied: tzdata>=2022.7 in c:\\users\\kdelgadoperez\\desktop\\flatiron_folder\\flatiron\\dsc-deloitteaia-021224-a\\.venv\\lib\\site-packages (from pandas) (2024.1)\n",
      "Requirement already satisfied: six>=1.5 in c:\\users\\kdelgadoperez\\desktop\\flatiron_folder\\flatiron\\dsc-deloitteaia-021224-a\\.venv\\lib\\site-packages (from python-dateutil>=2.8.2->pandas) (1.16.0)\n",
      "Collecting seaborn\n",
      "  Downloading seaborn-0.13.2-py3-none-any.whl.metadata (5.4 kB)\n",
      "Requirement already satisfied: numpy!=1.24.0,>=1.20 in c:\\users\\kdelgadoperez\\desktop\\flatiron_folder\\flatiron\\dsc-deloitteaia-021224-a\\.venv\\lib\\site-packages (from seaborn) (1.26.4)\n",
      "Requirement already satisfied: pandas>=1.2 in c:\\users\\kdelgadoperez\\desktop\\flatiron_folder\\flatiron\\dsc-deloitteaia-021224-a\\.venv\\lib\\site-packages (from seaborn) (2.2.0)\n",
      "Collecting matplotlib!=3.6.1,>=3.4 (from seaborn)\n",
      "  Downloading matplotlib-3.8.3-cp311-cp311-win_amd64.whl.metadata (5.9 kB)\n",
      "Collecting contourpy>=1.0.1 (from matplotlib!=3.6.1,>=3.4->seaborn)\n",
      "  Downloading contourpy-1.2.0-cp311-cp311-win_amd64.whl.metadata (5.8 kB)\n",
      "Collecting cycler>=0.10 (from matplotlib!=3.6.1,>=3.4->seaborn)\n",
      "  Downloading cycler-0.12.1-py3-none-any.whl.metadata (3.8 kB)\n",
      "Collecting fonttools>=4.22.0 (from matplotlib!=3.6.1,>=3.4->seaborn)\n",
      "  Downloading fonttools-4.49.0-cp311-cp311-win_amd64.whl.metadata (162 kB)\n",
      "     ---------------------------------------- 0.0/162.3 kB ? eta -:--:--\n",
      "     -- ------------------------------------- 10.2/162.3 kB ? eta -:--:--\n",
      "     --------- --------------------------- 41.0/162.3 kB 495.5 kB/s eta 0:00:01\n",
      "     ------------------------ ----------- 112.6/162.3 kB 939.4 kB/s eta 0:00:01\n",
      "     ----------------------------------- -- 153.6/162.3 kB 1.0 MB/s eta 0:00:01\n",
      "     ------------------------------------ 162.3/162.3 kB 813.1 kB/s eta 0:00:00\n",
      "Collecting kiwisolver>=1.3.1 (from matplotlib!=3.6.1,>=3.4->seaborn)\n",
      "  Downloading kiwisolver-1.4.5-cp311-cp311-win_amd64.whl.metadata (6.5 kB)\n",
      "Requirement already satisfied: packaging>=20.0 in c:\\users\\kdelgadoperez\\desktop\\flatiron_folder\\flatiron\\dsc-deloitteaia-021224-a\\.venv\\lib\\site-packages (from matplotlib!=3.6.1,>=3.4->seaborn) (23.2)\n",
      "Collecting pillow>=8 (from matplotlib!=3.6.1,>=3.4->seaborn)\n",
      "  Downloading pillow-10.2.0-cp311-cp311-win_amd64.whl.metadata (9.9 kB)\n",
      "Collecting pyparsing>=2.3.1 (from matplotlib!=3.6.1,>=3.4->seaborn)\n",
      "  Downloading pyparsing-3.1.1-py3-none-any.whl.metadata (5.1 kB)\n",
      "Requirement already satisfied: python-dateutil>=2.7 in c:\\users\\kdelgadoperez\\desktop\\flatiron_folder\\flatiron\\dsc-deloitteaia-021224-a\\.venv\\lib\\site-packages (from matplotlib!=3.6.1,>=3.4->seaborn) (2.8.2)\n",
      "Requirement already satisfied: pytz>=2020.1 in c:\\users\\kdelgadoperez\\desktop\\flatiron_folder\\flatiron\\dsc-deloitteaia-021224-a\\.venv\\lib\\site-packages (from pandas>=1.2->seaborn) (2024.1)\n",
      "Requirement already satisfied: tzdata>=2022.7 in c:\\users\\kdelgadoperez\\desktop\\flatiron_folder\\flatiron\\dsc-deloitteaia-021224-a\\.venv\\lib\\site-packages (from pandas>=1.2->seaborn) (2024.1)\n",
      "Requirement already satisfied: six>=1.5 in c:\\users\\kdelgadoperez\\desktop\\flatiron_folder\\flatiron\\dsc-deloitteaia-021224-a\\.venv\\lib\\site-packages (from python-dateutil>=2.7->matplotlib!=3.6.1,>=3.4->seaborn) (1.16.0)\n",
      "Downloading seaborn-0.13.2-py3-none-any.whl (294 kB)\n",
      "   ---------------------------------------- 0.0/294.9 kB ? eta -:--:--\n",
      "   ---------------- ----------------------- 122.9/294.9 kB 7.0 MB/s eta 0:00:01\n",
      "   ---------------------------------- ----- 256.0/294.9 kB 3.2 MB/s eta 0:00:01\n",
      "   -------------------------------------- - 286.7/294.9 kB 2.2 MB/s eta 0:00:01\n",
      "   ---------------------------------------- 294.9/294.9 kB 1.8 MB/s eta 0:00:00\n",
      "Downloading matplotlib-3.8.3-cp311-cp311-win_amd64.whl (7.6 MB)\n",
      "   ---------------------------------------- 0.0/7.6 MB ? eta -:--:--\n",
      "   - -------------------------------------- 0.3/7.6 MB 16.6 MB/s eta 0:00:01\n",
      "   -- ------------------------------------- 0.5/7.6 MB 6.8 MB/s eta 0:00:02\n",
      "   ---- ----------------------------------- 0.8/7.6 MB 6.2 MB/s eta 0:00:02\n",
      "   ----- ---------------------------------- 1.0/7.6 MB 5.4 MB/s eta 0:00:02\n",
      "   ------ --------------------------------- 1.3/7.6 MB 5.7 MB/s eta 0:00:02\n",
      "   ------- -------------------------------- 1.5/7.6 MB 5.5 MB/s eta 0:00:02\n",
      "   -------- ------------------------------- 1.7/7.6 MB 5.4 MB/s eta 0:00:02\n",
      "   ---------- ----------------------------- 1.9/7.6 MB 5.3 MB/s eta 0:00:02\n",
      "   ----------- ---------------------------- 2.2/7.6 MB 5.3 MB/s eta 0:00:02\n",
      "   ------------ --------------------------- 2.4/7.6 MB 5.2 MB/s eta 0:00:02\n",
      "   ------------- -------------------------- 2.6/7.6 MB 5.2 MB/s eta 0:00:01\n",
      "   -------------- ------------------------- 2.8/7.6 MB 5.2 MB/s eta 0:00:01\n",
      "   ---------------- ----------------------- 3.1/7.6 MB 5.1 MB/s eta 0:00:01\n",
      "   ----------------- ---------------------- 3.3/7.6 MB 5.1 MB/s eta 0:00:01\n",
      "   ------------------ --------------------- 3.5/7.6 MB 5.1 MB/s eta 0:00:01\n",
      "   ------------------- -------------------- 3.7/7.6 MB 5.1 MB/s eta 0:00:01\n",
      "   ------------------- -------------------- 3.7/7.6 MB 5.1 MB/s eta 0:00:01\n",
      "   ------------------- -------------------- 3.7/7.6 MB 5.1 MB/s eta 0:00:01\n",
      "   ------------------- -------------------- 3.7/7.6 MB 5.1 MB/s eta 0:00:01\n",
      "   ------------------- -------------------- 3.7/7.6 MB 5.1 MB/s eta 0:00:01\n",
      "   ------------------- -------------------- 3.7/7.6 MB 5.1 MB/s eta 0:00:01\n",
      "   ------------------- -------------------- 3.7/7.6 MB 5.1 MB/s eta 0:00:01\n",
      "   ----------------------- ---------------- 4.5/7.6 MB 4.2 MB/s eta 0:00:01\n",
      "   ----------------------------- ---------- 5.7/7.6 MB 5.1 MB/s eta 0:00:01\n",
      "   ------------------------------ --------- 5.9/7.6 MB 5.1 MB/s eta 0:00:01\n",
      "   ------------------------------- -------- 6.1/7.6 MB 5.1 MB/s eta 0:00:01\n",
      "   -------------------------------- ------- 6.3/7.6 MB 5.1 MB/s eta 0:00:01\n",
      "   ---------------------------------- ----- 6.6/7.6 MB 5.1 MB/s eta 0:00:01\n",
      "   ----------------------------------- ---- 6.8/7.6 MB 5.0 MB/s eta 0:00:01\n",
      "   ------------------------------------ --- 7.0/7.6 MB 5.1 MB/s eta 0:00:01\n",
      "   ------------------------------------- -- 7.3/7.6 MB 5.0 MB/s eta 0:00:01\n",
      "   ---------------------------------------  7.5/7.6 MB 5.0 MB/s eta 0:00:01\n",
      "   ---------------------------------------  7.6/7.6 MB 5.0 MB/s eta 0:00:01\n",
      "   ---------------------------------------- 7.6/7.6 MB 4.9 MB/s eta 0:00:00\n",
      "Downloading contourpy-1.2.0-cp311-cp311-win_amd64.whl (187 kB)\n",
      "   ---------------------------------------- 0.0/187.6 kB ? eta -:--:--\n",
      "   ---------------------------------------- 187.6/187.6 kB 5.7 MB/s eta 0:00:00\n",
      "Downloading cycler-0.12.1-py3-none-any.whl (8.3 kB)\n",
      "Downloading fonttools-4.49.0-cp311-cp311-win_amd64.whl (2.2 MB)\n",
      "   ---------------------------------------- 0.0/2.2 MB ? eta -:--:--\n",
      "   ----- ---------------------------------- 0.3/2.2 MB 8.9 MB/s eta 0:00:01\n",
      "   --------- ------------------------------ 0.5/2.2 MB 6.7 MB/s eta 0:00:01\n",
      "   -------------- ------------------------- 0.8/2.2 MB 6.1 MB/s eta 0:00:01\n",
      "   ------------------ --------------------- 1.0/2.2 MB 5.8 MB/s eta 0:00:01\n",
      "   ---------------------- ----------------- 1.2/2.2 MB 5.6 MB/s eta 0:00:01\n",
      "   --------------------------- ------------ 1.5/2.2 MB 5.5 MB/s eta 0:00:01\n",
      "   ------------------------------ --------- 1.7/2.2 MB 5.3 MB/s eta 0:00:01\n",
      "   ---------------------------------- ----- 1.9/2.2 MB 5.2 MB/s eta 0:00:01\n",
      "   ---------------------------------------  2.1/2.2 MB 5.2 MB/s eta 0:00:01\n",
      "   ---------------------------------------- 2.2/2.2 MB 5.0 MB/s eta 0:00:00\n",
      "Downloading kiwisolver-1.4.5-cp311-cp311-win_amd64.whl (56 kB)\n",
      "   ---------------------------------------- 0.0/56.1 kB ? eta -:--:--\n",
      "   ---------------------------------------- 56.1/56.1 kB 1.5 MB/s eta 0:00:00\n",
      "Downloading pillow-10.2.0-cp311-cp311-win_amd64.whl (2.6 MB)\n",
      "   ---------------------------------------- 0.0/2.6 MB ? eta -:--:--\n",
      "   ------ --------------------------------- 0.4/2.6 MB 9.3 MB/s eta 0:00:01\n",
      "   ---------- ----------------------------- 0.7/2.6 MB 7.5 MB/s eta 0:00:01\n",
      "   -------------- ------------------------- 0.9/2.6 MB 6.6 MB/s eta 0:00:01\n",
      "   ----------------- ---------------------- 1.2/2.6 MB 6.2 MB/s eta 0:00:01\n",
      "   ---------------------- ----------------- 1.5/2.6 MB 5.9 MB/s eta 0:00:01\n",
      "   --------------------------- ------------ 1.8/2.6 MB 5.7 MB/s eta 0:00:01\n",
      "   ------------------------------ --------- 2.0/2.6 MB 5.6 MB/s eta 0:00:01\n",
      "   ---------------------------------- ----- 2.2/2.6 MB 5.5 MB/s eta 0:00:01\n",
      "   ------------------------------------- -- 2.5/2.6 MB 5.4 MB/s eta 0:00:01\n",
      "   ---------------------------------------  2.6/2.6 MB 5.4 MB/s eta 0:00:01\n",
      "   ---------------------------------------- 2.6/2.6 MB 5.1 MB/s eta 0:00:00\n",
      "Downloading pyparsing-3.1.1-py3-none-any.whl (103 kB)\n",
      "   ---------------------------------------- 0.0/103.1 kB ? eta -:--:--\n",
      "   ---------------------------------------- 103.1/103.1 kB 2.0 MB/s eta 0:00:00\n",
      "Installing collected packages: pyparsing, pillow, kiwisolver, fonttools, cycler, contourpy, matplotlib, seaborn\n",
      "Successfully installed contourpy-1.2.0 cycler-0.12.1 fonttools-4.49.0 kiwisolver-1.4.5 matplotlib-3.8.3 pillow-10.2.0 pyparsing-3.1.1 seaborn-0.13.2\n",
      "Requirement already satisfied: matplotlib in c:\\users\\kdelgadoperez\\desktop\\flatiron_folder\\flatiron\\dsc-deloitteaia-021224-a\\.venv\\lib\\site-packages (3.8.3)\n",
      "Requirement already satisfied: contourpy>=1.0.1 in c:\\users\\kdelgadoperez\\desktop\\flatiron_folder\\flatiron\\dsc-deloitteaia-021224-a\\.venv\\lib\\site-packages (from matplotlib) (1.2.0)\n",
      "Requirement already satisfied: cycler>=0.10 in c:\\users\\kdelgadoperez\\desktop\\flatiron_folder\\flatiron\\dsc-deloitteaia-021224-a\\.venv\\lib\\site-packages (from matplotlib) (0.12.1)\n",
      "Requirement already satisfied: fonttools>=4.22.0 in c:\\users\\kdelgadoperez\\desktop\\flatiron_folder\\flatiron\\dsc-deloitteaia-021224-a\\.venv\\lib\\site-packages (from matplotlib) (4.49.0)\n",
      "Requirement already satisfied: kiwisolver>=1.3.1 in c:\\users\\kdelgadoperez\\desktop\\flatiron_folder\\flatiron\\dsc-deloitteaia-021224-a\\.venv\\lib\\site-packages (from matplotlib) (1.4.5)\n",
      "Requirement already satisfied: numpy<2,>=1.21 in c:\\users\\kdelgadoperez\\desktop\\flatiron_folder\\flatiron\\dsc-deloitteaia-021224-a\\.venv\\lib\\site-packages (from matplotlib) (1.26.4)\n",
      "Requirement already satisfied: packaging>=20.0 in c:\\users\\kdelgadoperez\\desktop\\flatiron_folder\\flatiron\\dsc-deloitteaia-021224-a\\.venv\\lib\\site-packages (from matplotlib) (23.2)\n",
      "Requirement already satisfied: pillow>=8 in c:\\users\\kdelgadoperez\\desktop\\flatiron_folder\\flatiron\\dsc-deloitteaia-021224-a\\.venv\\lib\\site-packages (from matplotlib) (10.2.0)\n",
      "Requirement already satisfied: pyparsing>=2.3.1 in c:\\users\\kdelgadoperez\\desktop\\flatiron_folder\\flatiron\\dsc-deloitteaia-021224-a\\.venv\\lib\\site-packages (from matplotlib) (3.1.1)\n",
      "Requirement already satisfied: python-dateutil>=2.7 in c:\\users\\kdelgadoperez\\desktop\\flatiron_folder\\flatiron\\dsc-deloitteaia-021224-a\\.venv\\lib\\site-packages (from matplotlib) (2.8.2)\n",
      "Requirement already satisfied: six>=1.5 in c:\\users\\kdelgadoperez\\desktop\\flatiron_folder\\flatiron\\dsc-deloitteaia-021224-a\\.venv\\lib\\site-packages (from python-dateutil>=2.7->matplotlib) (1.16.0)\n",
      "Collecting scipy\n",
      "  Downloading scipy-1.12.0-cp311-cp311-win_amd64.whl.metadata (60 kB)\n",
      "     ---------------------------------------- 0.0/60.4 kB ? eta -:--:--\n",
      "     --------------------------- ------------ 41.0/60.4 kB 1.9 MB/s eta 0:00:01\n",
      "     -------------------------------------- 60.4/60.4 kB 635.5 kB/s eta 0:00:00\n",
      "Requirement already satisfied: numpy<1.29.0,>=1.22.4 in c:\\users\\kdelgadoperez\\desktop\\flatiron_folder\\flatiron\\dsc-deloitteaia-021224-a\\.venv\\lib\\site-packages (from scipy) (1.26.4)\n",
      "Downloading scipy-1.12.0-cp311-cp311-win_amd64.whl (46.2 MB)\n",
      "   ---------------------------------------- 0.0/46.2 MB ? eta -:--:--\n",
      "   ---------------------------------------- 0.0/46.2 MB ? eta -:--:--\n",
      "   ---------------------------------------- 0.1/46.2 MB 2.2 MB/s eta 0:00:22\n",
      "   ---------------------------------------- 0.2/46.2 MB 2.1 MB/s eta 0:00:23\n",
      "   ---------------------------------------- 0.5/46.2 MB 2.7 MB/s eta 0:00:17\n",
      "    --------------------------------------- 0.7/46.2 MB 3.3 MB/s eta 0:00:14\n",
      "    --------------------------------------- 1.0/46.2 MB 3.7 MB/s eta 0:00:13\n",
      "   - -------------------------------------- 1.4/46.2 MB 3.9 MB/s eta 0:00:12\n",
      "   - -------------------------------------- 1.7/46.2 MB 4.1 MB/s eta 0:00:11\n",
      "   - -------------------------------------- 1.8/46.2 MB 4.0 MB/s eta 0:00:12\n",
      "   - -------------------------------------- 2.1/46.2 MB 4.2 MB/s eta 0:00:11\n",
      "   -- ------------------------------------- 2.3/46.2 MB 4.3 MB/s eta 0:00:11\n",
      "   -- ------------------------------------- 2.6/46.2 MB 4.4 MB/s eta 0:00:10\n",
      "   -- ------------------------------------- 2.8/46.2 MB 4.5 MB/s eta 0:00:10\n",
      "   -- ------------------------------------- 3.0/46.2 MB 4.5 MB/s eta 0:00:10\n",
      "   -- ------------------------------------- 3.2/46.2 MB 4.5 MB/s eta 0:00:10\n",
      "   --- ------------------------------------ 3.5/46.2 MB 4.5 MB/s eta 0:00:10\n",
      "   --- ------------------------------------ 3.7/46.2 MB 4.5 MB/s eta 0:00:10\n",
      "   --- ------------------------------------ 4.0/46.2 MB 4.6 MB/s eta 0:00:10\n",
      "   --- ------------------------------------ 4.2/46.2 MB 4.6 MB/s eta 0:00:10\n",
      "   --- ------------------------------------ 4.4/46.2 MB 4.6 MB/s eta 0:00:10\n",
      "   ---- ----------------------------------- 4.6/46.2 MB 4.6 MB/s eta 0:00:09\n",
      "   ---- ----------------------------------- 4.9/46.2 MB 4.6 MB/s eta 0:00:09\n",
      "   ---- ----------------------------------- 5.1/46.2 MB 4.6 MB/s eta 0:00:09\n",
      "   ---- ----------------------------------- 5.3/46.2 MB 4.7 MB/s eta 0:00:09\n",
      "   ---- ----------------------------------- 5.5/46.2 MB 4.7 MB/s eta 0:00:09\n",
      "   ----- ---------------------------------- 5.8/46.2 MB 4.7 MB/s eta 0:00:09\n",
      "   ----- ---------------------------------- 6.0/46.2 MB 4.7 MB/s eta 0:00:09\n",
      "   ----- ---------------------------------- 6.3/46.2 MB 4.7 MB/s eta 0:00:09\n",
      "   ----- ---------------------------------- 6.5/46.2 MB 4.7 MB/s eta 0:00:09\n",
      "   ----- ---------------------------------- 6.7/46.2 MB 4.7 MB/s eta 0:00:09\n",
      "   ----- ---------------------------------- 6.9/46.2 MB 4.8 MB/s eta 0:00:09\n",
      "   ------ --------------------------------- 7.1/46.2 MB 4.8 MB/s eta 0:00:09\n",
      "   ------ --------------------------------- 7.4/46.2 MB 4.7 MB/s eta 0:00:09\n",
      "   ------ --------------------------------- 7.8/46.2 MB 4.7 MB/s eta 0:00:09\n",
      "   ------- -------------------------------- 8.2/46.2 MB 4.7 MB/s eta 0:00:09\n",
      "   ------- -------------------------------- 8.4/46.2 MB 4.7 MB/s eta 0:00:08\n",
      "   ------- -------------------------------- 8.6/46.2 MB 4.8 MB/s eta 0:00:08\n",
      "   ------- -------------------------------- 9.0/46.2 MB 4.7 MB/s eta 0:00:08\n",
      "   -------- ------------------------------- 9.3/46.2 MB 4.7 MB/s eta 0:00:08\n",
      "   -------- ------------------------------- 9.8/46.2 MB 4.8 MB/s eta 0:00:08\n",
      "   -------- ------------------------------- 10.2/46.2 MB 4.8 MB/s eta 0:00:08\n",
      "   --------- ------------------------------ 10.5/46.2 MB 5.0 MB/s eta 0:00:08\n",
      "   --------- ------------------------------ 10.9/46.2 MB 5.0 MB/s eta 0:00:08\n",
      "   --------- ------------------------------ 11.1/46.2 MB 5.0 MB/s eta 0:00:08\n",
      "   --------- ------------------------------ 11.4/46.2 MB 4.9 MB/s eta 0:00:08\n",
      "   ---------- ----------------------------- 11.7/46.2 MB 5.0 MB/s eta 0:00:07\n",
      "   ---------- ----------------------------- 12.0/46.2 MB 5.0 MB/s eta 0:00:07\n",
      "   ---------- ----------------------------- 12.2/46.2 MB 4.9 MB/s eta 0:00:07\n",
      "   ---------- ----------------------------- 12.6/46.2 MB 5.0 MB/s eta 0:00:07\n",
      "   ----------- ---------------------------- 13.0/46.2 MB 4.9 MB/s eta 0:00:07\n",
      "   ----------- ---------------------------- 13.3/46.2 MB 5.0 MB/s eta 0:00:07\n",
      "   ----------- ---------------------------- 13.7/46.2 MB 4.9 MB/s eta 0:00:07\n",
      "   ------------ --------------------------- 14.0/46.2 MB 5.0 MB/s eta 0:00:07\n",
      "   ------------ --------------------------- 14.3/46.2 MB 5.0 MB/s eta 0:00:07\n",
      "   ------------ --------------------------- 14.7/46.2 MB 4.9 MB/s eta 0:00:07\n",
      "   ------------- -------------------------- 15.0/46.2 MB 4.9 MB/s eta 0:00:07\n",
      "   ------------- -------------------------- 15.3/46.2 MB 4.9 MB/s eta 0:00:07\n",
      "   ------------- -------------------------- 15.5/46.2 MB 4.9 MB/s eta 0:00:07\n",
      "   ------------- -------------------------- 15.8/46.2 MB 4.9 MB/s eta 0:00:07\n",
      "   ------------- -------------------------- 16.1/46.2 MB 5.0 MB/s eta 0:00:07\n",
      "   -------------- ------------------------- 16.3/46.2 MB 4.9 MB/s eta 0:00:07\n",
      "   -------------- ------------------------- 16.6/46.2 MB 4.9 MB/s eta 0:00:07\n",
      "   -------------- ------------------------- 16.9/46.2 MB 4.9 MB/s eta 0:00:06\n",
      "   -------------- ------------------------- 17.2/46.2 MB 5.0 MB/s eta 0:00:06\n",
      "   --------------- ------------------------ 17.5/46.2 MB 4.9 MB/s eta 0:00:06\n",
      "   --------------- ------------------------ 17.8/46.2 MB 5.0 MB/s eta 0:00:06\n",
      "   --------------- ------------------------ 18.0/46.2 MB 5.0 MB/s eta 0:00:06\n",
      "   --------------- ------------------------ 18.3/46.2 MB 5.0 MB/s eta 0:00:06\n",
      "   ---------------- ----------------------- 18.6/46.2 MB 5.0 MB/s eta 0:00:06\n",
      "   ---------------- ----------------------- 18.9/46.2 MB 4.9 MB/s eta 0:00:06\n",
      "   ---------------- ----------------------- 19.2/46.2 MB 5.0 MB/s eta 0:00:06\n",
      "   ---------------- ----------------------- 19.5/46.2 MB 4.9 MB/s eta 0:00:06\n",
      "   ----------------- ---------------------- 19.8/46.2 MB 4.9 MB/s eta 0:00:06\n",
      "   ----------------- ---------------------- 20.0/46.2 MB 5.0 MB/s eta 0:00:06\n",
      "   ----------------- ---------------------- 20.3/46.2 MB 5.0 MB/s eta 0:00:06\n",
      "   ----------------- ---------------------- 20.5/46.2 MB 5.0 MB/s eta 0:00:06\n",
      "   ----------------- ---------------------- 20.7/46.2 MB 5.0 MB/s eta 0:00:06\n",
      "   ------------------ --------------------- 21.0/46.2 MB 4.9 MB/s eta 0:00:06\n",
      "   ------------------ --------------------- 21.2/46.2 MB 4.9 MB/s eta 0:00:06\n",
      "   ------------------ --------------------- 21.4/46.2 MB 5.0 MB/s eta 0:00:05\n",
      "   ------------------ --------------------- 21.7/46.2 MB 5.0 MB/s eta 0:00:05\n",
      "   ------------------- -------------------- 21.9/46.2 MB 5.0 MB/s eta 0:00:05\n",
      "   ------------------- -------------------- 22.2/46.2 MB 4.9 MB/s eta 0:00:05\n",
      "   ------------------- -------------------- 22.4/46.2 MB 5.0 MB/s eta 0:00:05\n",
      "   ------------------- -------------------- 22.6/46.2 MB 4.9 MB/s eta 0:00:05\n",
      "   ------------------- -------------------- 22.9/46.2 MB 5.0 MB/s eta 0:00:05\n",
      "   -------------------- ------------------- 23.1/46.2 MB 5.0 MB/s eta 0:00:05\n",
      "   -------------------- ------------------- 23.3/46.2 MB 5.0 MB/s eta 0:00:05\n",
      "   -------------------- ------------------- 23.6/46.2 MB 5.0 MB/s eta 0:00:05\n",
      "   -------------------- ------------------- 23.8/46.2 MB 5.0 MB/s eta 0:00:05\n",
      "   -------------------- ------------------- 24.0/46.2 MB 4.9 MB/s eta 0:00:05\n",
      "   --------------------- ------------------ 24.3/46.2 MB 5.0 MB/s eta 0:00:05\n",
      "   --------------------- ------------------ 24.5/46.2 MB 5.0 MB/s eta 0:00:05\n",
      "   --------------------- ------------------ 24.8/46.2 MB 5.0 MB/s eta 0:00:05\n",
      "   --------------------- ------------------ 25.0/46.2 MB 5.0 MB/s eta 0:00:05\n",
      "   --------------------- ------------------ 25.3/46.2 MB 5.0 MB/s eta 0:00:05\n",
      "   ---------------------- ----------------- 25.5/46.2 MB 5.0 MB/s eta 0:00:05\n",
      "   ---------------------- ----------------- 25.7/46.2 MB 5.0 MB/s eta 0:00:05\n",
      "   ---------------------- ----------------- 26.0/46.2 MB 5.0 MB/s eta 0:00:05\n",
      "   ---------------------- ----------------- 26.2/46.2 MB 5.0 MB/s eta 0:00:05\n",
      "   ---------------------- ----------------- 26.4/46.2 MB 5.0 MB/s eta 0:00:04\n",
      "   ----------------------- ---------------- 26.6/46.2 MB 5.0 MB/s eta 0:00:04\n",
      "   ----------------------- ---------------- 26.9/46.2 MB 5.0 MB/s eta 0:00:04\n",
      "   ----------------------- ---------------- 27.1/46.2 MB 5.0 MB/s eta 0:00:04\n",
      "   ----------------------- ---------------- 27.3/46.2 MB 5.0 MB/s eta 0:00:04\n",
      "   ----------------------- ---------------- 27.6/46.2 MB 5.0 MB/s eta 0:00:04\n",
      "   ------------------------ --------------- 27.8/46.2 MB 5.0 MB/s eta 0:00:04\n",
      "   ------------------------ --------------- 28.0/46.2 MB 5.0 MB/s eta 0:00:04\n",
      "   ------------------------ --------------- 28.3/46.2 MB 5.0 MB/s eta 0:00:04\n",
      "   ------------------------ --------------- 28.5/46.2 MB 5.0 MB/s eta 0:00:04\n",
      "   ------------------------ --------------- 28.7/46.2 MB 5.0 MB/s eta 0:00:04\n",
      "   ------------------------- -------------- 29.0/46.2 MB 5.0 MB/s eta 0:00:04\n",
      "   ------------------------- -------------- 29.2/46.2 MB 5.0 MB/s eta 0:00:04\n",
      "   ------------------------- -------------- 29.4/46.2 MB 5.0 MB/s eta 0:00:04\n",
      "   ------------------------- -------------- 29.6/46.2 MB 5.0 MB/s eta 0:00:04\n",
      "   ------------------------- -------------- 29.9/46.2 MB 5.0 MB/s eta 0:00:04\n",
      "   -------------------------- ------------- 30.1/46.2 MB 5.0 MB/s eta 0:00:04\n",
      "   -------------------------- ------------- 30.3/46.2 MB 5.0 MB/s eta 0:00:04\n",
      "   -------------------------- ------------- 30.6/46.2 MB 5.0 MB/s eta 0:00:04\n",
      "   -------------------------- ------------- 30.8/46.2 MB 5.0 MB/s eta 0:00:04\n",
      "   -------------------------- ------------- 31.0/46.2 MB 5.0 MB/s eta 0:00:04\n",
      "   --------------------------- ------------ 31.2/46.2 MB 5.0 MB/s eta 0:00:03\n",
      "   --------------------------- ------------ 31.5/46.2 MB 5.0 MB/s eta 0:00:03\n",
      "   --------------------------- ------------ 31.6/46.2 MB 5.0 MB/s eta 0:00:03\n",
      "   --------------------------- ------------ 31.6/46.2 MB 4.9 MB/s eta 0:00:03\n",
      "   --------------------------- ------------ 31.6/46.2 MB 4.9 MB/s eta 0:00:03\n",
      "   --------------------------- ------------ 31.6/46.2 MB 4.9 MB/s eta 0:00:03\n",
      "   --------------------------- ------------ 31.6/46.2 MB 4.9 MB/s eta 0:00:03\n",
      "   --------------------------- ------------ 31.6/46.2 MB 4.9 MB/s eta 0:00:03\n",
      "   --------------------------- ------------ 31.6/46.2 MB 4.9 MB/s eta 0:00:03\n",
      "   --------------------------- ------------ 31.6/46.2 MB 4.9 MB/s eta 0:00:03\n",
      "   --------------------------- ------------ 31.6/46.2 MB 4.9 MB/s eta 0:00:03\n",
      "   --------------------------- ------------ 31.6/46.2 MB 4.9 MB/s eta 0:00:03\n",
      "   --------------------------- ------------ 31.6/46.2 MB 4.9 MB/s eta 0:00:03\n",
      "   --------------------------- ------------ 31.6/46.2 MB 4.9 MB/s eta 0:00:03\n",
      "   --------------------------- ------------ 31.6/46.2 MB 4.9 MB/s eta 0:00:03\n",
      "   --------------------------- ------------ 31.7/46.2 MB 3.8 MB/s eta 0:00:04\n",
      "   --------------------------- ------------ 32.0/46.2 MB 3.9 MB/s eta 0:00:04\n",
      "   ------------------------------ --------- 34.7/46.2 MB 4.7 MB/s eta 0:00:03\n",
      "   ------------------------------ --------- 35.3/46.2 MB 4.9 MB/s eta 0:00:03\n",
      "   ------------------------------ --------- 35.6/46.2 MB 4.9 MB/s eta 0:00:03\n",
      "   ------------------------------- -------- 35.8/46.2 MB 4.9 MB/s eta 0:00:03\n",
      "   ------------------------------- -------- 36.0/46.2 MB 4.9 MB/s eta 0:00:03\n",
      "   ------------------------------- -------- 36.2/46.2 MB 4.8 MB/s eta 0:00:03\n",
      "   ------------------------------- -------- 36.5/46.2 MB 4.9 MB/s eta 0:00:02\n",
      "   ------------------------------- -------- 36.7/46.2 MB 4.9 MB/s eta 0:00:02\n",
      "   -------------------------------- ------- 37.0/46.2 MB 4.8 MB/s eta 0:00:02\n",
      "   -------------------------------- ------- 37.2/46.2 MB 4.9 MB/s eta 0:00:02\n",
      "   -------------------------------- ------- 37.6/46.2 MB 4.9 MB/s eta 0:00:02\n",
      "   -------------------------------- ------- 37.7/46.2 MB 4.9 MB/s eta 0:00:02\n",
      "   -------------------------------- ------- 38.0/46.2 MB 4.9 MB/s eta 0:00:02\n",
      "   --------------------------------- ------ 38.3/46.2 MB 4.8 MB/s eta 0:00:02\n",
      "   --------------------------------- ------ 38.5/46.2 MB 4.8 MB/s eta 0:00:02\n",
      "   --------------------------------- ------ 38.7/46.2 MB 4.9 MB/s eta 0:00:02\n",
      "   --------------------------------- ------ 39.0/46.2 MB 4.8 MB/s eta 0:00:02\n",
      "   --------------------------------- ------ 39.2/46.2 MB 4.9 MB/s eta 0:00:02\n",
      "   ---------------------------------- ----- 39.5/46.2 MB 4.9 MB/s eta 0:00:02\n",
      "   ---------------------------------- ----- 39.8/46.2 MB 4.9 MB/s eta 0:00:02\n",
      "   ---------------------------------- ----- 40.0/46.2 MB 4.8 MB/s eta 0:00:02\n",
      "   ---------------------------------- ----- 40.2/46.2 MB 4.8 MB/s eta 0:00:02\n",
      "   ---------------------------------- ----- 40.4/46.2 MB 4.9 MB/s eta 0:00:02\n",
      "   ----------------------------------- ---- 40.7/46.2 MB 4.9 MB/s eta 0:00:02\n",
      "   ----------------------------------- ---- 40.9/46.2 MB 4.9 MB/s eta 0:00:02\n",
      "   ----------------------------------- ---- 41.1/46.2 MB 4.9 MB/s eta 0:00:02\n",
      "   ----------------------------------- ---- 41.4/46.2 MB 4.9 MB/s eta 0:00:01\n",
      "   ------------------------------------ --- 41.6/46.2 MB 4.9 MB/s eta 0:00:01\n",
      "   ------------------------------------ --- 41.9/46.2 MB 6.9 MB/s eta 0:00:01\n",
      "   ------------------------------------ --- 42.1/46.2 MB 7.0 MB/s eta 0:00:01\n",
      "   ------------------------------------ --- 42.3/46.2 MB 6.7 MB/s eta 0:00:01\n",
      "   ------------------------------------ --- 42.5/46.2 MB 6.5 MB/s eta 0:00:01\n",
      "   ------------------------------------- -- 42.8/46.2 MB 6.4 MB/s eta 0:00:01\n",
      "   ------------------------------------- -- 43.0/46.2 MB 6.2 MB/s eta 0:00:01\n",
      "   ------------------------------------- -- 43.2/46.2 MB 6.1 MB/s eta 0:00:01\n",
      "   ------------------------------------- -- 43.4/46.2 MB 5.9 MB/s eta 0:00:01\n",
      "   ------------------------------------- -- 43.7/46.2 MB 5.7 MB/s eta 0:00:01\n",
      "   -------------------------------------- - 44.0/46.2 MB 5.6 MB/s eta 0:00:01\n",
      "   -------------------------------------- - 44.2/46.2 MB 5.5 MB/s eta 0:00:01\n",
      "   -------------------------------------- - 44.4/46.2 MB 5.4 MB/s eta 0:00:01\n",
      "   -------------------------------------- - 44.7/46.2 MB 5.2 MB/s eta 0:00:01\n",
      "   -------------------------------------- - 44.9/46.2 MB 5.2 MB/s eta 0:00:01\n",
      "   ---------------------------------------  45.1/46.2 MB 5.1 MB/s eta 0:00:01\n",
      "   ---------------------------------------  45.4/46.2 MB 4.9 MB/s eta 0:00:01\n",
      "   ---------------------------------------  45.6/46.2 MB 4.9 MB/s eta 0:00:01\n",
      "   ---------------------------------------  45.8/46.2 MB 5.0 MB/s eta 0:00:01\n",
      "   ---------------------------------------  46.0/46.2 MB 5.0 MB/s eta 0:00:01\n",
      "   ---------------------------------------  46.2/46.2 MB 5.0 MB/s eta 0:00:01\n",
      "   ---------------------------------------  46.2/46.2 MB 5.0 MB/s eta 0:00:01\n",
      "   ---------------------------------------  46.2/46.2 MB 5.0 MB/s eta 0:00:01\n",
      "   ---------------------------------------- 46.2/46.2 MB 4.6 MB/s eta 0:00:00\n",
      "Installing collected packages: scipy\n",
      "Successfully installed scipy-1.12.0\n",
      "Requirement already satisfied: numpy in c:\\users\\kdelgadoperez\\desktop\\flatiron_folder\\flatiron\\dsc-deloitteaia-021224-a\\.venv\\lib\\site-packages (1.26.4)\n",
      "Collecting sklearn\n",
      "  Downloading sklearn-0.0.post12.tar.gz (2.6 kB)\n",
      "  Installing build dependencies: started\n",
      "  Installing build dependencies: finished with status 'done'\n",
      "  Getting requirements to build wheel: started\n",
      "  Getting requirements to build wheel: finished with status 'error'\n"
     ]
    },
    {
     "name": "stderr",
     "output_type": "stream",
     "text": [
      "  error: subprocess-exited-with-error\n",
      "  \n",
      "  × Getting requirements to build wheel did not run successfully.\n",
      "  │ exit code: 1\n",
      "  ╰─> [15 lines of output]\n",
      "      The 'sklearn' PyPI package is deprecated, use 'scikit-learn'\n",
      "      rather than 'sklearn' for pip commands.\n",
      "      \n",
      "      Here is how to fix this error in the main use cases:\n",
      "      - use 'pip install scikit-learn' rather than 'pip install sklearn'\n",
      "      - replace 'sklearn' by 'scikit-learn' in your pip requirements files\n",
      "        (requirements.txt, setup.py, setup.cfg, Pipfile, etc ...)\n",
      "      - if the 'sklearn' package is used by one of your dependencies,\n",
      "        it would be great if you take some time to track which package uses\n",
      "        'sklearn' instead of 'scikit-learn' and report it to their issue tracker\n",
      "      - as a last resort, set the environment variable\n",
      "        SKLEARN_ALLOW_DEPRECATED_SKLEARN_PACKAGE_INSTALL=True to avoid this error\n",
      "      \n",
      "      More information is available at\n",
      "      https://github.com/scikit-learn/sklearn-pypi-package\n",
      "      [end of output]\n",
      "  \n",
      "  note: This error originates from a subprocess, and is likely not a problem with pip.\n",
      "error: subprocess-exited-with-error\n",
      "\n",
      "× Getting requirements to build wheel did not run successfully.\n",
      "│ exit code: 1\n",
      "╰─> See above for output.\n",
      "\n",
      "note: This error originates from a subprocess, and is likely not a problem with pip.\n"
     ]
    }
   ],
   "source": [
    "!pip install pandas\n",
    "!pip install seaborn\n",
    "!pip install matplotlib\n",
    "!pip install scipy\n",
    "!pip install numpy\n",
    "!pip install sklearn"
   ]
  },
  {
   "cell_type": "code",
   "execution_count": 5,
   "metadata": {},
   "outputs": [
    {
     "name": "stdout",
     "output_type": "stream",
     "text": [
      "Collecting scikit-learn\n",
      "  Downloading scikit_learn-1.4.1.post1-cp311-cp311-win_amd64.whl.metadata (11 kB)\n",
      "Requirement already satisfied: numpy<2.0,>=1.19.5 in c:\\users\\kdelgadoperez\\desktop\\flatiron_folder\\flatiron\\dsc-deloitteaia-021224-a\\.venv\\lib\\site-packages (from scikit-learn) (1.26.4)\n",
      "Requirement already satisfied: scipy>=1.6.0 in c:\\users\\kdelgadoperez\\desktop\\flatiron_folder\\flatiron\\dsc-deloitteaia-021224-a\\.venv\\lib\\site-packages (from scikit-learn) (1.12.0)\n",
      "Collecting joblib>=1.2.0 (from scikit-learn)\n",
      "  Downloading joblib-1.3.2-py3-none-any.whl.metadata (5.4 kB)\n",
      "Collecting threadpoolctl>=2.0.0 (from scikit-learn)\n",
      "  Downloading threadpoolctl-3.3.0-py3-none-any.whl.metadata (13 kB)\n",
      "Downloading scikit_learn-1.4.1.post1-cp311-cp311-win_amd64.whl (10.6 MB)\n",
      "   ---------------------------------------- 0.0/10.6 MB ? eta -:--:--\n",
      "   ---------------------------------------- 0.0/10.6 MB 682.7 kB/s eta 0:00:16\n",
      "   ---------------------------------------- 0.1/10.6 MB 825.8 kB/s eta 0:00:13\n",
      "    --------------------------------------- 0.1/10.6 MB 1.2 MB/s eta 0:00:09\n",
      "    --------------------------------------- 0.3/10.6 MB 1.6 MB/s eta 0:00:07\n",
      "   - -------------------------------------- 0.5/10.6 MB 2.5 MB/s eta 0:00:05\n",
      "   -- ------------------------------------- 0.8/10.6 MB 3.0 MB/s eta 0:00:04\n",
      "   --- ------------------------------------ 1.0/10.6 MB 3.3 MB/s eta 0:00:03\n",
      "   ---- ----------------------------------- 1.2/10.6 MB 3.5 MB/s eta 0:00:03\n",
      "   ----- ---------------------------------- 1.4/10.6 MB 3.6 MB/s eta 0:00:03\n",
      "   ------ --------------------------------- 1.7/10.6 MB 3.8 MB/s eta 0:00:03\n",
      "   ------- -------------------------------- 1.9/10.6 MB 3.9 MB/s eta 0:00:03\n",
      "   ------- -------------------------------- 2.1/10.6 MB 4.0 MB/s eta 0:00:03\n",
      "   -------- ------------------------------- 2.4/10.6 MB 4.1 MB/s eta 0:00:03\n",
      "   --------- ------------------------------ 2.6/10.6 MB 4.2 MB/s eta 0:00:02\n",
      "   ---------- ----------------------------- 2.8/10.6 MB 4.2 MB/s eta 0:00:02\n",
      "   ----------- ---------------------------- 3.0/10.6 MB 4.3 MB/s eta 0:00:02\n",
      "   ------------ --------------------------- 3.3/10.6 MB 4.4 MB/s eta 0:00:02\n",
      "   ------------- -------------------------- 3.5/10.6 MB 4.4 MB/s eta 0:00:02\n",
      "   -------------- ------------------------- 3.7/10.6 MB 4.4 MB/s eta 0:00:02\n",
      "   --------------- ------------------------ 4.0/10.6 MB 4.5 MB/s eta 0:00:02\n",
      "   --------------- ------------------------ 4.2/10.6 MB 4.5 MB/s eta 0:00:02\n",
      "   ---------------- ----------------------- 4.5/10.6 MB 4.5 MB/s eta 0:00:02\n",
      "   ----------------- ---------------------- 4.7/10.6 MB 4.5 MB/s eta 0:00:02\n",
      "   ------------------ --------------------- 4.8/10.6 MB 4.5 MB/s eta 0:00:02\n",
      "   ------------------ --------------------- 4.8/10.6 MB 4.5 MB/s eta 0:00:02\n",
      "   ------------------ --------------------- 4.8/10.6 MB 4.5 MB/s eta 0:00:02\n",
      "   ------------------ --------------------- 4.8/10.6 MB 4.5 MB/s eta 0:00:02\n",
      "   ------------------ --------------------- 4.8/10.6 MB 4.5 MB/s eta 0:00:02\n",
      "   ------------------ --------------------- 4.8/10.6 MB 4.5 MB/s eta 0:00:02\n",
      "   ------------------ --------------------- 4.8/10.6 MB 4.5 MB/s eta 0:00:02\n",
      "   ------------------ --------------------- 4.8/10.6 MB 4.5 MB/s eta 0:00:02\n",
      "   ------------------------- -------------- 6.7/10.6 MB 4.6 MB/s eta 0:00:01\n",
      "   -------------------------- ------------- 7.0/10.6 MB 4.7 MB/s eta 0:00:01\n",
      "   --------------------------- ------------ 7.2/10.6 MB 4.7 MB/s eta 0:00:01\n",
      "   --------------------------- ------------ 7.4/10.6 MB 4.7 MB/s eta 0:00:01\n",
      "   ---------------------------- ----------- 7.6/10.6 MB 4.7 MB/s eta 0:00:01\n",
      "   ----------------------------- ---------- 7.9/10.6 MB 4.7 MB/s eta 0:00:01\n",
      "   ------------------------------ --------- 8.1/10.6 MB 4.7 MB/s eta 0:00:01\n",
      "   ------------------------------- -------- 8.3/10.6 MB 4.7 MB/s eta 0:00:01\n",
      "   -------------------------------- ------- 8.5/10.6 MB 4.7 MB/s eta 0:00:01\n",
      "   -------------------------------- ------- 8.8/10.6 MB 4.7 MB/s eta 0:00:01\n",
      "   --------------------------------- ------ 9.0/10.6 MB 4.7 MB/s eta 0:00:01\n",
      "   ---------------------------------- ----- 9.3/10.6 MB 4.7 MB/s eta 0:00:01\n",
      "   ----------------------------------- ---- 9.5/10.6 MB 4.7 MB/s eta 0:00:01\n",
      "   ------------------------------------ --- 9.7/10.6 MB 4.8 MB/s eta 0:00:01\n",
      "   ------------------------------------- -- 9.9/10.6 MB 4.7 MB/s eta 0:00:01\n",
      "   -------------------------------------- - 10.2/10.6 MB 4.8 MB/s eta 0:00:01\n",
      "   -------------------------------------- - 10.4/10.6 MB 4.9 MB/s eta 0:00:01\n",
      "   ---------------------------------------  10.6/10.6 MB 5.0 MB/s eta 0:00:01\n",
      "   ---------------------------------------- 10.6/10.6 MB 4.9 MB/s eta 0:00:00\n",
      "Downloading joblib-1.3.2-py3-none-any.whl (302 kB)\n",
      "   ---------------------------------------- 0.0/302.2 kB ? eta -:--:--\n",
      "   ------------------------------------ --- 276.5/302.2 kB 8.3 MB/s eta 0:00:01\n",
      "   ---------------------------------------- 302.2/302.2 kB 6.2 MB/s eta 0:00:00\n",
      "Downloading threadpoolctl-3.3.0-py3-none-any.whl (17 kB)\n",
      "Installing collected packages: threadpoolctl, joblib, scikit-learn\n",
      "Successfully installed joblib-1.3.2 scikit-learn-1.4.1.post1 threadpoolctl-3.3.0\n"
     ]
    }
   ],
   "source": [
    "!pip install scikit-learn"
   ]
  },
  {
   "cell_type": "code",
   "execution_count": 6,
   "metadata": {},
   "outputs": [],
   "source": [
    "# Imports\n",
    "import pandas as pd\n",
    "import numpy as np\n",
    "\n",
    "import matplotlib.pyplot as plt\n",
    "# same as \n",
    "# from matplotlib import pyplot as plt\n",
    "\n",
    "import seaborn as sns\n",
    "\n",
    "from scipy import stats\n",
    "from sklearn.datasets import load_iris"
   ]
  },
  {
   "cell_type": "markdown",
   "metadata": {
    "heading_collapsed": true
   },
   "source": [
    "## Visualization Motivation: Why Visualize Data?"
   ]
  },
  {
   "cell_type": "markdown",
   "metadata": {
    "hidden": true
   },
   "source": [
    "Why can’t we just hand someone a table of data?"
   ]
  },
  {
   "cell_type": "markdown",
   "metadata": {
    "hidden": true
   },
   "source": [
    "Let's load up the iris data set.  This is a famous built-in dataset which is used to learn about categorization. "
   ]
  },
  {
   "cell_type": "code",
   "execution_count": 7,
   "metadata": {
    "hidden": true
   },
   "outputs": [],
   "source": [
    "# This iris dataset comes bundled with sklearn\n",
    "data = load_iris()\n",
    "df_iris = pd.DataFrame(data['data'], columns=data['feature_names'])\n",
    "df_iris['target'] = data['target']"
   ]
  },
  {
   "cell_type": "markdown",
   "metadata": {
    "hidden": true
   },
   "source": [
    "Here is an image of one of the virginica iris, which is unique in its relative petal and sepal length."
   ]
  },
  {
   "cell_type": "markdown",
   "metadata": {
    "hidden": true
   },
   "source": [
    "![virginica_iris](images/iris_virginica.jpg)"
   ]
  },
  {
   "cell_type": "markdown",
   "metadata": {
    "heading_collapsed": true,
    "hidden": true
   },
   "source": [
    "### Dataframe vs. Statistics vs. Graph: Which do you prefer?"
   ]
  },
  {
   "cell_type": "code",
   "execution_count": 8,
   "metadata": {
    "hidden": true
   },
   "outputs": [
    {
     "data": {
      "text/html": [
       "<div>\n",
       "<style scoped>\n",
       "    .dataframe tbody tr th:only-of-type {\n",
       "        vertical-align: middle;\n",
       "    }\n",
       "\n",
       "    .dataframe tbody tr th {\n",
       "        vertical-align: top;\n",
       "    }\n",
       "\n",
       "    .dataframe thead th {\n",
       "        text-align: right;\n",
       "    }\n",
       "</style>\n",
       "<table border=\"1\" class=\"dataframe\">\n",
       "  <thead>\n",
       "    <tr style=\"text-align: right;\">\n",
       "      <th></th>\n",
       "      <th>sepal length (cm)</th>\n",
       "      <th>sepal width (cm)</th>\n",
       "      <th>petal length (cm)</th>\n",
       "      <th>petal width (cm)</th>\n",
       "      <th>target</th>\n",
       "    </tr>\n",
       "  </thead>\n",
       "  <tbody>\n",
       "    <tr>\n",
       "      <th>73</th>\n",
       "      <td>6.1</td>\n",
       "      <td>2.8</td>\n",
       "      <td>4.7</td>\n",
       "      <td>1.2</td>\n",
       "      <td>1</td>\n",
       "    </tr>\n",
       "    <tr>\n",
       "      <th>18</th>\n",
       "      <td>5.7</td>\n",
       "      <td>3.8</td>\n",
       "      <td>1.7</td>\n",
       "      <td>0.3</td>\n",
       "      <td>0</td>\n",
       "    </tr>\n",
       "    <tr>\n",
       "      <th>118</th>\n",
       "      <td>7.7</td>\n",
       "      <td>2.6</td>\n",
       "      <td>6.9</td>\n",
       "      <td>2.3</td>\n",
       "      <td>2</td>\n",
       "    </tr>\n",
       "    <tr>\n",
       "      <th>78</th>\n",
       "      <td>6.0</td>\n",
       "      <td>2.9</td>\n",
       "      <td>4.5</td>\n",
       "      <td>1.5</td>\n",
       "      <td>1</td>\n",
       "    </tr>\n",
       "    <tr>\n",
       "      <th>76</th>\n",
       "      <td>6.8</td>\n",
       "      <td>2.8</td>\n",
       "      <td>4.8</td>\n",
       "      <td>1.4</td>\n",
       "      <td>1</td>\n",
       "    </tr>\n",
       "  </tbody>\n",
       "</table>\n",
       "</div>"
      ],
      "text/plain": [
       "     sepal length (cm)  sepal width (cm)  petal length (cm)  petal width (cm)  \\\n",
       "73                 6.1               2.8                4.7               1.2   \n",
       "18                 5.7               3.8                1.7               0.3   \n",
       "118                7.7               2.6                6.9               2.3   \n",
       "78                 6.0               2.9                4.5               1.5   \n",
       "76                 6.8               2.8                4.8               1.4   \n",
       "\n",
       "     target  \n",
       "73        1  \n",
       "18        0  \n",
       "118       2  \n",
       "78        1  \n",
       "76        1  "
      ]
     },
     "execution_count": 8,
     "metadata": {},
     "output_type": "execute_result"
    }
   ],
   "source": [
    "# Five random rows of the iris dataset\n",
    "df_iris.sample(5, random_state=42)"
   ]
  },
  {
   "cell_type": "markdown",
   "metadata": {},
   "source": [
    "What information in this dataframe jumps out to you?\n",
    "\n",
    "- \n"
   ]
  },
  {
   "cell_type": "code",
   "execution_count": 9,
   "metadata": {},
   "outputs": [
    {
     "data": {
      "text/html": [
       "<div>\n",
       "<style scoped>\n",
       "    .dataframe tbody tr th:only-of-type {\n",
       "        vertical-align: middle;\n",
       "    }\n",
       "\n",
       "    .dataframe tbody tr th {\n",
       "        vertical-align: top;\n",
       "    }\n",
       "\n",
       "    .dataframe thead th {\n",
       "        text-align: right;\n",
       "    }\n",
       "</style>\n",
       "<table border=\"1\" class=\"dataframe\">\n",
       "  <thead>\n",
       "    <tr style=\"text-align: right;\">\n",
       "      <th></th>\n",
       "      <th>sepal length (cm)</th>\n",
       "      <th>sepal width (cm)</th>\n",
       "      <th>petal length (cm)</th>\n",
       "      <th>petal width (cm)</th>\n",
       "      <th>target</th>\n",
       "    </tr>\n",
       "  </thead>\n",
       "  <tbody>\n",
       "    <tr>\n",
       "      <th>count</th>\n",
       "      <td>150.000000</td>\n",
       "      <td>150.000000</td>\n",
       "      <td>150.000000</td>\n",
       "      <td>150.000000</td>\n",
       "      <td>150.000000</td>\n",
       "    </tr>\n",
       "    <tr>\n",
       "      <th>mean</th>\n",
       "      <td>5.843333</td>\n",
       "      <td>3.057333</td>\n",
       "      <td>3.758000</td>\n",
       "      <td>1.199333</td>\n",
       "      <td>1.000000</td>\n",
       "    </tr>\n",
       "    <tr>\n",
       "      <th>std</th>\n",
       "      <td>0.828066</td>\n",
       "      <td>0.435866</td>\n",
       "      <td>1.765298</td>\n",
       "      <td>0.762238</td>\n",
       "      <td>0.819232</td>\n",
       "    </tr>\n",
       "    <tr>\n",
       "      <th>min</th>\n",
       "      <td>4.300000</td>\n",
       "      <td>2.000000</td>\n",
       "      <td>1.000000</td>\n",
       "      <td>0.100000</td>\n",
       "      <td>0.000000</td>\n",
       "    </tr>\n",
       "    <tr>\n",
       "      <th>25%</th>\n",
       "      <td>5.100000</td>\n",
       "      <td>2.800000</td>\n",
       "      <td>1.600000</td>\n",
       "      <td>0.300000</td>\n",
       "      <td>0.000000</td>\n",
       "    </tr>\n",
       "    <tr>\n",
       "      <th>50%</th>\n",
       "      <td>5.800000</td>\n",
       "      <td>3.000000</td>\n",
       "      <td>4.350000</td>\n",
       "      <td>1.300000</td>\n",
       "      <td>1.000000</td>\n",
       "    </tr>\n",
       "    <tr>\n",
       "      <th>75%</th>\n",
       "      <td>6.400000</td>\n",
       "      <td>3.300000</td>\n",
       "      <td>5.100000</td>\n",
       "      <td>1.800000</td>\n",
       "      <td>2.000000</td>\n",
       "    </tr>\n",
       "    <tr>\n",
       "      <th>max</th>\n",
       "      <td>7.900000</td>\n",
       "      <td>4.400000</td>\n",
       "      <td>6.900000</td>\n",
       "      <td>2.500000</td>\n",
       "      <td>2.000000</td>\n",
       "    </tr>\n",
       "  </tbody>\n",
       "</table>\n",
       "</div>"
      ],
      "text/plain": [
       "       sepal length (cm)  sepal width (cm)  petal length (cm)  \\\n",
       "count         150.000000        150.000000         150.000000   \n",
       "mean            5.843333          3.057333           3.758000   \n",
       "std             0.828066          0.435866           1.765298   \n",
       "min             4.300000          2.000000           1.000000   \n",
       "25%             5.100000          2.800000           1.600000   \n",
       "50%             5.800000          3.000000           4.350000   \n",
       "75%             6.400000          3.300000           5.100000   \n",
       "max             7.900000          4.400000           6.900000   \n",
       "\n",
       "       petal width (cm)      target  \n",
       "count        150.000000  150.000000  \n",
       "mean           1.199333    1.000000  \n",
       "std            0.762238    0.819232  \n",
       "min            0.100000    0.000000  \n",
       "25%            0.300000    0.000000  \n",
       "50%            1.300000    1.000000  \n",
       "75%            1.800000    2.000000  \n",
       "max            2.500000    2.000000  "
      ]
     },
     "execution_count": 9,
     "metadata": {},
     "output_type": "execute_result"
    }
   ],
   "source": [
    "# Summary statistics of the iris dataset\n",
    "df_iris.describe()"
   ]
  },
  {
   "cell_type": "markdown",
   "metadata": {},
   "source": [
    "What information in this summary statistics table jumps out to you?\n",
    "\n",
    "- \n"
   ]
  },
  {
   "cell_type": "code",
   "execution_count": 11,
   "metadata": {
    "hidden": true
   },
   "outputs": [
    {
     "data": {
      "image/png": "[encoded data removed]",
      "text/plain": [
       "<Figure size 800x500 with 1 Axes>"
      ]
     },
     "metadata": {},
     "output_type": "display_data"
    }
   ],
   "source": [
    "# Now, let's plot two variables from the iris dataset\n",
    "fig, ax = plt.subplots(figsize=(8, 5))\n",
    "\n",
    "# Use seaborn to plot two facets of the above data, colored by the target column\n",
    "sns.scatterplot(x='sepal length (cm)', y='petal length (cm)', hue='target', data=df_iris)\n",
    "\n",
    "ax.set_title('Petal Length vs Sepal Length for Three Species of Flowers')\n",
    "ax.legend();"
   ]
  },
  {
   "cell_type": "markdown",
   "metadata": {
    "hidden": true
   },
   "source": [
    "What information in this graph jumps out to you?\n",
    "\n",
    "- \n"
   ]
  },
  {
   "cell_type": "markdown",
   "metadata": {},
   "source": [
    "### Visualizing for Yourself vs. Visualizing for Others"
   ]
  },
  {
   "cell_type": "markdown",
   "metadata": {},
   "source": [
    "An important point: you're going to be creating two kinds of visualizations - ones you create for yourself, to explore your own data, and ones you create for others, to share your findings.\n",
    "\n",
    "AKA: **exploratory** vs **explanatory** plots!\n",
    "\n",
    "Our goal with **exploratory** visualizations is to better understand the data, and we often don't really intend to share these plots - but you should still get in the habit of labeling your plots and writing out your findings and observations (either in markdown/code comments or using titles/annotation on the plots)! This will help you quickly get up to speed when you revisit your work later, or will be helpful when others stumble upon your work.\n",
    "\n",
    "Our goal in **explanatory** visualizations is to convey/communicate insight(s) effectively to our audience. That audience can be other data scientists but can also be stakeholders unfamiliar with data analysis or statistical concepts.\n",
    "\n",
    "Our goal today is to help you be able to create both!"
   ]
  },
  {
   "cell_type": "markdown",
   "metadata": {
    "heading_collapsed": true,
    "hidden": true
   },
   "source": [
    "## Plotting Syntax"
   ]
  },
  {
   "cell_type": "markdown",
   "metadata": {},
   "source": [
    "Let's read in some new data:"
   ]
  },
  {
   "cell_type": "code",
   "execution_count": 13,
   "metadata": {
    "hidden": true
   },
   "outputs": [],
   "source": [
    "# This is a default dataset that comes bundled with seaborn\n",
    "penguins = sns.load_dataset('penguins')"
   ]
  },
  {
   "cell_type": "code",
   "execution_count": 14,
   "metadata": {
    "hidden": true
   },
   "outputs": [
    {
     "data": {
      "text/html": [
       "<div>\n",
       "<style scoped>\n",
       "    .dataframe tbody tr th:only-of-type {\n",
       "        vertical-align: middle;\n",
       "    }\n",
       "\n",
       "    .dataframe tbody tr th {\n",
       "        vertical-align: top;\n",
       "    }\n",
       "\n",
       "    .dataframe thead th {\n",
       "        text-align: right;\n",
       "    }\n",
       "</style>\n",
       "<table border=\"1\" class=\"dataframe\">\n",
       "  <thead>\n",
       "    <tr style=\"text-align: right;\">\n",
       "      <th></th>\n",
       "      <th>species</th>\n",
       "      <th>island</th>\n",
       "      <th>bill_length_mm</th>\n",
       "      <th>bill_depth_mm</th>\n",
       "      <th>flipper_length_mm</th>\n",
       "      <th>body_mass_g</th>\n",
       "      <th>sex</th>\n",
       "    </tr>\n",
       "  </thead>\n",
       "  <tbody>\n",
       "    <tr>\n",
       "      <th>0</th>\n",
       "      <td>Adelie</td>\n",
       "      <td>Torgersen</td>\n",
       "      <td>39.1</td>\n",
       "      <td>18.7</td>\n",
       "      <td>181.0</td>\n",
       "      <td>3750.0</td>\n",
       "      <td>Male</td>\n",
       "    </tr>\n",
       "    <tr>\n",
       "      <th>1</th>\n",
       "      <td>Adelie</td>\n",
       "      <td>Torgersen</td>\n",
       "      <td>39.5</td>\n",
       "      <td>17.4</td>\n",
       "      <td>186.0</td>\n",
       "      <td>3800.0</td>\n",
       "      <td>Female</td>\n",
       "    </tr>\n",
       "    <tr>\n",
       "      <th>2</th>\n",
       "      <td>Adelie</td>\n",
       "      <td>Torgersen</td>\n",
       "      <td>40.3</td>\n",
       "      <td>18.0</td>\n",
       "      <td>195.0</td>\n",
       "      <td>3250.0</td>\n",
       "      <td>Female</td>\n",
       "    </tr>\n",
       "    <tr>\n",
       "      <th>3</th>\n",
       "      <td>Adelie</td>\n",
       "      <td>Torgersen</td>\n",
       "      <td>NaN</td>\n",
       "      <td>NaN</td>\n",
       "      <td>NaN</td>\n",
       "      <td>NaN</td>\n",
       "      <td>NaN</td>\n",
       "    </tr>\n",
       "    <tr>\n",
       "      <th>4</th>\n",
       "      <td>Adelie</td>\n",
       "      <td>Torgersen</td>\n",
       "      <td>36.7</td>\n",
       "      <td>19.3</td>\n",
       "      <td>193.0</td>\n",
       "      <td>3450.0</td>\n",
       "      <td>Female</td>\n",
       "    </tr>\n",
       "  </tbody>\n",
       "</table>\n",
       "</div>"
      ],
      "text/plain": [
       "  species     island  bill_length_mm  bill_depth_mm  flipper_length_mm  \\\n",
       "0  Adelie  Torgersen            39.1           18.7              181.0   \n",
       "1  Adelie  Torgersen            39.5           17.4              186.0   \n",
       "2  Adelie  Torgersen            40.3           18.0              195.0   \n",
       "3  Adelie  Torgersen             NaN            NaN                NaN   \n",
       "4  Adelie  Torgersen            36.7           19.3              193.0   \n",
       "\n",
       "   body_mass_g     sex  \n",
       "0       3750.0    Male  \n",
       "1       3800.0  Female  \n",
       "2       3250.0  Female  \n",
       "3          NaN     NaN  \n",
       "4       3450.0  Female  "
      ]
     },
     "execution_count": 14,
     "metadata": {},
     "output_type": "execute_result"
    }
   ],
   "source": [
    "penguins.head()"
   ]
  },
  {
   "cell_type": "markdown",
   "metadata": {},
   "source": [
    "### Pandas `.plot`\n",
    "\n",
    "Let's start with the simplest way to plot data - using pandas built-in methods.\n",
    "\n",
    "Documentation! https://pandas.pydata.org/docs/reference/api/pandas.DataFrame.plot.html\n",
    "\n",
    "Goal: Create a scatterplot showing flipper_length_mm and body_mass_g."
   ]
  },
  {
   "cell_type": "code",
   "execution_count": 17,
   "metadata": {},
   "outputs": [
    {
     "data": {
      "image/png": "[encoded data removed]",
      "text/plain": [
       "<Figure size 640x480 with 1 Axes>"
      ]
     },
     "metadata": {},
     "output_type": "display_data"
    }
   ],
   "source": [
    "# Simple way to throw a plot on top of data\n",
    "penguins.plot(x='flipper_length_mm', y='body_mass_g', kind='scatter', color='blue');"
   ]
  },
  {
   "cell_type": "code",
   "execution_count": 18,
   "metadata": {},
   "outputs": [
    {
     "data": {
      "image/png": "[encoded data removed]",
      "text/plain": [
       "<Figure size 640x480 with 1 Axes>"
      ]
     },
     "metadata": {},
     "output_type": "display_data"
    }
   ],
   "source": [
    "# Can also specify the kind of plot this way\n",
    "penguins.plot.scatter(x='flipper_length_mm', y='body_mass_g', color='blue');"
   ]
  },
  {
   "cell_type": "markdown",
   "metadata": {},
   "source": [
    "This is a pretty simple way to plot data - it's based on matplotlib, there are a good amount of options you can pass to play around with it, and you can stack this with matplotlib functions to do things like add titles or axis labels.\n",
    "\n",
    "This is a good option if you are exploring data."
   ]
  },
  {
   "cell_type": "markdown",
   "metadata": {},
   "source": [
    "### Seaborn\n",
    "\n",
    "Seaborn, like pandas plotting, is built on top of matplotlib, and is designed to make certain things you might want to try or explore a bit easier.\n",
    "\n",
    "Documentation! https://seaborn.pydata.org/api.html"
   ]
  },
  {
   "cell_type": "code",
   "execution_count": 19,
   "metadata": {},
   "outputs": [
    {
     "data": {
      "image/png": "[encoded data removed]",
      "text/plain": [
       "<Figure size 640x480 with 1 Axes>"
      ]
     },
     "metadata": {},
     "output_type": "display_data"
    }
   ],
   "source": [
    "# Recreate the same plot in seaborn\n",
    "sns.scatterplot(x='flipper_length_mm', y='body_mass_g', data=penguins);"
   ]
  },
  {
   "cell_type": "markdown",
   "metadata": {},
   "source": [
    "One nice thing about seaborn is that many of their plots take the 'hue' argument, which effortlessly designates a category with colors:"
   ]
  },
  {
   "cell_type": "code",
   "execution_count": 21,
   "metadata": {},
   "outputs": [
    {
     "data": {
      "image/png": "[encoded data removed]",
      "text/plain": [
       "<Figure size 640x480 with 1 Axes>"
      ]
     },
     "metadata": {},
     "output_type": "display_data"
    }
   ],
   "source": [
    "# Color by penguin species\n",
    "sns.scatterplot(x='flipper_length_mm', y='body_mass_g', data=penguins,\n",
    "                hue='species');"
   ]
  },
  {
   "cell_type": "markdown",
   "metadata": {},
   "source": [
    "Seaborn can be great for both kinds of plots - they're easy to put together and make exploring data pretty efficient, and their default plots often look nice effortlessly. "
   ]
  },
  {
   "cell_type": "markdown",
   "metadata": {},
   "source": [
    "### Matplotlib\n",
    "\n",
    "At the end of the day, these other plotting methods are all built on top of matplotlib - thus, you have to get comfortable with matplotlib syntax in order to build more specific or more effective plots."
   ]
  },
  {
   "cell_type": "code",
   "execution_count": 22,
   "metadata": {
    "hidden": true
   },
   "outputs": [
    {
     "data": {
      "image/png": "[encoded data removed]",
      "text/plain": [
       "<Figure size 600x400 with 1 Axes>"
      ]
     },
     "metadata": {},
     "output_type": "display_data"
    }
   ],
   "source": [
    "# This is one matplotlib syntax - the non-fig/ax method\n",
    "\n",
    "plt.figure(figsize=(6, 4))\n",
    "\n",
    "plt.scatter(penguins['flipper_length_mm'], penguins['body_mass_g'])\n",
    "\n",
    "plt.xlabel('Flipper Length')\n",
    "plt.ylabel('Body Mass')\n",
    "plt.title('Relationship Between Flipper Length and Body Mass among Penguins')\n",
    "\n",
    "plt.tight_layout()"
   ]
  },
  {
   "cell_type": "code",
   "execution_count": 23,
   "metadata": {
    "hidden": true
   },
   "outputs": [
    {
     "data": {
      "image/png": "[encoded data removed]",
      "text/plain": [
       "<Figure size 600x400 with 1 Axes>"
      ]
     },
     "metadata": {},
     "output_type": "display_data"
    }
   ],
   "source": [
    "# This is the other plotting syntax. Note that plt.subplots()\n",
    "# returns two things: the figure object and the axis object\n",
    "# This option gives you the MOST flexibility and access to matplotlib elements!\n",
    "\n",
    "fig, ax = plt.subplots(figsize=(6, 4))\n",
    "\n",
    "ax.scatter(penguins['flipper_length_mm'], penguins['body_mass_g'])\n",
    "ax.set_xlabel('Flipper Length (mm)')\n",
    "ax.set_ylabel('Body Mass (g)')\n",
    "ax.set_title('Relationship Between Flipper Length and Body Mass among Penguins')\n",
    "\n",
    "plt.tight_layout()"
   ]
  },
  {
   "cell_type": "markdown",
   "metadata": {},
   "source": [
    "## Exploring Plot Types"
   ]
  },
  {
   "cell_type": "markdown",
   "metadata": {},
   "source": [
    "![image source: https://multimedia.journalism.berkeley.edu/tutorials/visualizing-data-a-guide-to-chart-types/](https://multimedia.journalism.berkeley.edu/wp-content/uploads/Screen-Shot-2016-08-11-at-1.34.23-PM.png)\n",
    "\n",
    "[Image Source](https://multimedia.journalism.berkeley.edu/tutorials/visualizing-data-a-guide-to-chart-types/)"
   ]
  },
  {
   "cell_type": "markdown",
   "metadata": {},
   "source": [
    "A nice overview!\n",
    "\n",
    "For a similar reference specifically for python plots, check out the [Python Graph Gallery](https://python-graph-gallery.com)\n",
    "\n",
    "You'll notice that these are sorted by what you want to showcase/demonstrate - the most important thing you should consider when starting to plot data is what exactly you're looking for or trying to say!"
   ]
  },
  {
   "cell_type": "markdown",
   "metadata": {},
   "source": [
    "# YOUR TURN"
   ]
  },
  {
   "cell_type": "markdown",
   "metadata": {},
   "source": [
    "## Picking Proper Plots"
   ]
  },
  {
   "cell_type": "markdown",
   "metadata": {},
   "source": [
    "Now that we've seen a few different visualizations, let's have a quick quiz in deciding would be a good plot for a given scenario:"
   ]
  },
  {
   "cell_type": "markdown",
   "metadata": {},
   "source": [
    "###  Scenario 1"
   ]
  },
  {
   "cell_type": "markdown",
   "metadata": {},
   "source": [
    "> **SCENARIO**: We have a company's past financial reports. We want to compare how a company's revenue has done over the past few years.\n",
    "\n",
    "🤔 _What type of visualization do you choose?_\n",
    "\n",
    "<details>\n",
    "    <summary>Possible Answers</summary>\n",
    "    <ul>\n",
    "        <li>Line Plot</li>\n",
    "        <li>Bar Chart</li>\n",
    "    </ul>\n",
    "</details>"
   ]
  },
  {
   "cell_type": "markdown",
   "metadata": {},
   "source": [
    "###  Scenario 2"
   ]
  },
  {
   "cell_type": "markdown",
   "metadata": {},
   "source": [
    "> **SCENARIO**: We're given a company's last quarterly report on sales from its  website. We want to show the number of orders broken down by the type of device the order was placed on.\n",
    "\n",
    "🤔 _What type of visualization do you choose?_\n",
    "\n",
    "<details>\n",
    "    <summary>Possible Answers</summary>\n",
    "    <ul>\n",
    "        <li>Bar Chart</li>\n",
    "        <li>Stacked Bar Chart</li>\n",
    "    </ul>\n",
    "</details>"
   ]
  },
  {
   "cell_type": "markdown",
   "metadata": {},
   "source": [
    "###  Scenario 3"
   ]
  },
  {
   "cell_type": "markdown",
   "metadata": {},
   "source": [
    "> **SCENARIO**: A food delivery service has a breakdown of this past week's orders. We want to show the relationship between the tips given in relation to the total bill.\n",
    "\n",
    "🤔 _What type of visualization do you choose?_\n",
    "\n",
    "<details>\n",
    "    <summary>Possible Answers</summary>\n",
    "    <ul>\n",
    "        <li>Scatter Plot</li>\n",
    "    </ul>\n",
    "</details>"
   ]
  },
  {
   "cell_type": "markdown",
   "metadata": {},
   "source": [
    "## Improving Visualizations"
   ]
  },
  {
   "cell_type": "markdown",
   "metadata": {},
   "source": [
    "### Accessible Visualizations!\n",
    "\n",
    "One of the BEST ways to think about improving your visualizations is by thinking about how to make your visualizations more accessible!\n",
    "\n",
    "PLEASE READ this excellent blog post walking through how to make your charts both more effective and more accessible to all: https://flourish.studio/blog/accessible-chart-design/\n",
    "\n",
    "Specifically, they focus on accessibility along three aspects of visualizations: Text, Color, and Animation (yes, there are ways to make animated plots in python!)\n",
    "\n",
    "A teaser (aka the first two paragraphs of the post):\n",
    "\n",
    "> When putting together a visualization or data story, it’s useful to remember that not everyone experiences the world as you do. A color palette that looks pretty to your eye might be difficult to differentiate for some viewers. Or a chart that you find easy to “read” might be hard to interpret for someone less data literate.\n",
    ">\n",
    "> This is a problem. If we don’t make our visuals accessible, not everyone can understand them, reducing their engagement and impact.\n"
   ]
  },
  {
   "cell_type": "markdown",
   "metadata": {},
   "source": [
    "### Getting Granular! \n",
    "\n",
    "In other words - how do we make specific changes to our plots?"
   ]
  },
  {
   "cell_type": "markdown",
   "metadata": {
    "hidden": true
   },
   "source": [
    "#### Anatomy of a `matplotlib` Figure\n",
    "\n",
    "<img src=\"images/matplotlib_anatomy.png\">"
   ]
  },
  {
   "cell_type": "markdown",
   "metadata": {
    "hidden": true
   },
   "source": [
    "Explanation of non-obvious terms:\n",
    "\n",
    "__Figure__ - This is the \"sheet of paper\" all of your graphing sits on. \n",
    "\n",
    "__Axis__ - An axis is an individual plot. You can have multiple axes on one figure\n",
    "\n",
    "__Major/Minor Ticks__ - The large and small dashes on the x and y axis\n",
    "\n",
    "__Markers__ - In a scatter plot each of the points is refered to as a marker\n",
    "\n",
    "__Spines__ - The lines that bound each axis"
   ]
  },
  {
   "cell_type": "markdown",
   "metadata": {
    "hidden": true
   },
   "source": [
    "#### Change color, opacity, marker size, and marker symbol\n",
    "\n",
    "Resources:\n",
    "- Named colors: https://matplotlib.org/3.1.0/gallery/color/named_colors.html\n",
    "- Marker symbols: https://matplotlib.org/3.2.1/api/markers_api.html"
   ]
  },
  {
   "cell_type": "code",
   "execution_count": null,
   "metadata": {
    "hidden": true
   },
   "outputs": [],
   "source": [
    "fig, ax = plt.subplots(figsize=(6, 4))\n",
    "\n",
    "# These are all arguments that go in the plot's function\n",
    "ax.scatter(penguins['flipper_length_mm'], penguins['body_mass_g'],\n",
    "           c='blue',\n",
    "           alpha=0.5,\n",
    "           s=100,\n",
    "           marker='*')\n",
    "\n",
    "ax.set_xlabel('Flipper Length (mm)')\n",
    "ax.set_ylabel('Body Mass (g)')\n",
    "ax.set_title('Relationship Between Flipper Length and Body Mass among Penguins')\n",
    "\n",
    "plt.tight_layout()"
   ]
  },
  {
   "cell_type": "markdown",
   "metadata": {
    "hidden": true
   },
   "source": [
    "#### Can identify colors by hexadecimal code"
   ]
  },
  {
   "cell_type": "code",
   "execution_count": null,
   "metadata": {
    "hidden": true
   },
   "outputs": [],
   "source": [
    "fig, ax = plt.subplots(figsize=(6, 4))\n",
    "\n",
    "ax.scatter(x=penguins['flipper_length_mm'], y=penguins['body_mass_g'],\n",
    "           c='#DE4B51', #here's the hex code\n",
    "           alpha=0.3,\n",
    "           s=100,\n",
    "           marker='^')\n",
    "\n",
    "ax.set_xlabel('Flipper Length (mm)')\n",
    "ax.set_ylabel('Body Mass (g)')\n",
    "ax.set_title('Relationship Between Flipper Length and Body Mass among Penguins')\n",
    "\n",
    "plt.tight_layout()"
   ]
  },
  {
   "cell_type": "markdown",
   "metadata": {},
   "source": [
    "#### Add a third variable by setting the color (or size) equal to a third column"
   ]
  },
  {
   "cell_type": "code",
   "execution_count": null,
   "metadata": {},
   "outputs": [],
   "source": [
    "fig, ax = plt.subplots(figsize=(6, 4))\n",
    "\n",
    "# When you save the plot as a variable...\n",
    "scatter = ax.scatter(x=penguins['flipper_length_mm'], y=penguins['body_mass_g'],\n",
    "                     alpha=.7,\n",
    "                     c=penguins['culmen_depth_mm'])\n",
    "\n",
    "ax.set_xlabel('Flipper Length (mm)')\n",
    "ax.set_ylabel('Body Mass (g)')\n",
    "ax.set_title('Relationship Between Flipper Length and Body Mass among Penguins')\n",
    "\n",
    "# You can then add a color bar as a legend!\n",
    "plt.colorbar(scatter, label='Culmen Depth (mm)')\n",
    "\n",
    "plt.tight_layout()"
   ]
  },
  {
   "cell_type": "markdown",
   "metadata": {},
   "source": [
    "#### Layer plots on top of each other, to provide potentially useful context"
   ]
  },
  {
   "cell_type": "code",
   "execution_count": null,
   "metadata": {},
   "outputs": [],
   "source": [
    "fig, ax = plt.subplots(figsize=(6, 4))\n",
    "\n",
    "ax.scatter(x=penguins['flipper_length_mm'], y=penguins['body_mass_g'])\n",
    "\n",
    "# Add the average flipper length as a vertical line\n",
    "# Can use label to then create a legend\n",
    "ax.vlines(penguins['flipper_length_mm'].mean(),\n",
    "          ymin=penguins['body_mass_g'].min(), ymax=penguins['body_mass_g'].max(),\n",
    "          color='red',\n",
    "          label=f\"Average Flipper Length ({penguins['flipper_length_mm'].mean():.2f} mm)\")  # add the exact value\n",
    "\n",
    "ax.set_xlabel('Flipper Length (mm)')\n",
    "ax.set_ylabel('Body Mass (g)')\n",
    "ax.set_title('Relationship Between Flipper Length and Body Mass among Penguins')\n",
    "\n",
    "# Add the legend\n",
    "plt.legend()\n",
    "plt.tight_layout()"
   ]
  },
  {
   "cell_type": "markdown",
   "metadata": {},
   "source": [
    "#### Annotate directly on the plot!"
   ]
  },
  {
   "cell_type": "code",
   "execution_count": null,
   "metadata": {
    "scrolled": true
   },
   "outputs": [],
   "source": [
    "fig, ax = plt.subplots(figsize=(6, 4))\n",
    "\n",
    "ax.scatter(x=penguins['flipper_length_mm'], y=penguins['body_mass_g'])\n",
    "\n",
    "# Add an annotation - needs what to write and then a location\n",
    "ax.annotate(\"Clear Positive Correlation\", (180,5500))\n",
    "\n",
    "ax.set_xlabel('Flipper Length (mm)')\n",
    "ax.set_ylabel('Body Mass (g)')\n",
    "ax.set_title('Relationship Between Flipper Length and Body Mass among Penguins')\n",
    "\n",
    "plt.tight_layout()"
   ]
  },
  {
   "cell_type": "code",
   "execution_count": null,
   "metadata": {},
   "outputs": [],
   "source": [
    "# More granular with the annotations...\n",
    "fig, ax = plt.subplots(figsize=(6, 4))\n",
    "\n",
    "ax.scatter(x=penguins['flipper_length_mm'], y=penguins['body_mass_g'])\n",
    "\n",
    "# Can use `text` to write on the plots as well\n",
    "ax.text(x=175, y=5500, s=\"Clear Positive Correlation\")\n",
    "\n",
    "# Adding that average line back on\n",
    "ax.vlines(penguins['flipper_length_mm'].mean(),\n",
    "          ymin=penguins['body_mass_g'].min(), ymax=penguins['body_mass_g'].max(),\n",
    "          color='red')\n",
    "\n",
    "# Now let's annotate but add an arrow for emphasis!\n",
    "ax.annotate('Average Flipper Length', xy=(penguins['flipper_length_mm'].mean(), 3000), xytext=(210, 2700),\n",
    "            arrowprops={'facecolor': 'black'})\n",
    "\n",
    "ax.set_xlabel('Flipper Length (mm)')\n",
    "ax.set_ylabel('Body Mass (g)')\n",
    "ax.set_title('Relationship Between Flipper Length and Body Mass among Penguins')\n",
    "\n",
    "plt.tight_layout()"
   ]
  },
  {
   "cell_type": "markdown",
   "metadata": {},
   "source": [
    "#### Adjust the axis labels to more clearly show the scale of our plots"
   ]
  },
  {
   "cell_type": "code",
   "execution_count": null,
   "metadata": {},
   "outputs": [],
   "source": [
    "# need a new import\n",
    "from matplotlib.ticker import StrMethodFormatter"
   ]
  },
  {
   "cell_type": "code",
   "execution_count": null,
   "metadata": {},
   "outputs": [],
   "source": [
    "fig, ax = plt.subplots(figsize=(6, 4))\n",
    "\n",
    "ax.scatter(x=penguins['flipper_length_mm'], y=penguins['body_mass_g'])\n",
    "\n",
    "# Set the major formatter and use fstring notation to adjust the axes\n",
    "ax.xaxis.set_major_formatter(StrMethodFormatter('{x:.0f}mm'))\n",
    "ax.yaxis.set_major_formatter(StrMethodFormatter('{x:,.0f}g'))\n",
    "\n",
    "# Can also rotate the xaxis to make it more legible\n",
    "plt.xticks(rotation=45)\n",
    "\n",
    "ax.set_xlabel('Flipper Length')\n",
    "ax.set_ylabel('Body Mass')\n",
    "ax.set_title('Relationship Between Flipper Length and Body Mass among Penguins')\n",
    "\n",
    "plt.tight_layout()"
   ]
  },
  {
   "cell_type": "markdown",
   "metadata": {},
   "source": [
    "#### Save the plot as an image file"
   ]
  },
  {
   "cell_type": "code",
   "execution_count": null,
   "metadata": {
    "scrolled": true
   },
   "outputs": [],
   "source": [
    "fig, ax = plt.subplots(figsize=(6, 4))\n",
    "\n",
    "ax.scatter(x=penguins['flipper_length_mm'], y=penguins['body_mass_g'])\n",
    "\n",
    "# Set the major formatter and use fstring notation to adjust the axes\n",
    "ax.xaxis.set_major_formatter(StrMethodFormatter('{x:.0f}mm'))\n",
    "ax.yaxis.set_major_formatter(StrMethodFormatter('{x:,.0f}g'))\n",
    "\n",
    "ax.set_xlabel('Flipper Length')\n",
    "ax.set_ylabel('Body Mass')\n",
    "ax.set_title('Relationship Between Flipper Length and Body Mass among Penguins')\n",
    "\n",
    "# Save the figure - needs a relative path/name, plus the image file type\n",
    "plt.savefig('images/flipper_length_body_mass.png')"
   ]
  },
  {
   "cell_type": "markdown",
   "metadata": {},
   "source": [
    "# YOUR TURN"
   ]
  },
  {
   "cell_type": "markdown",
   "metadata": {},
   "source": [
    "## Back to our Austin Animal Center Data\n",
    "\n",
    "We'll set up the data and some visualizations together."
   ]
  },
  {
   "cell_type": "code",
   "execution_count": null,
   "metadata": {},
   "outputs": [],
   "source": [
    "# Read in our data - and let's go ahead and parse the dates in the DateTime column\n",
    "df = pd.read_csv('data/Austin_Animal_Center_Intakes-clean-year.csv',\n",
    "                 parse_dates=['DateTime'])"
   ]
  },
  {
   "cell_type": "code",
   "execution_count": null,
   "metadata": {},
   "outputs": [],
   "source": [
    "# Check it out\n",
    "df.head()"
   ]
  },
  {
   "cell_type": "code",
   "execution_count": null,
   "metadata": {
    "scrolled": true
   },
   "outputs": [],
   "source": [
    "# Check the dataframe's info to make sure the dates were parsed correctly\n",
    "df.info()"
   ]
  },
  {
   "cell_type": "markdown",
   "metadata": {},
   "source": [
    "## What Are The Most Common Animal Types?"
   ]
  },
  {
   "cell_type": "code",
   "execution_count": null,
   "metadata": {},
   "outputs": [],
   "source": [
    "# can access the data we need with value counts\n",
    "types_count = df['Animal Type'].value_counts()\n",
    "types_count"
   ]
  },
  {
   "cell_type": "markdown",
   "metadata": {},
   "source": [
    "What kind of plot should we use to visualize the answer to this question?\n",
    "\n",
    "- Likely answers: bar graph, pie chart\n"
   ]
  },
  {
   "cell_type": "code",
   "execution_count": null,
   "metadata": {
    "scrolled": true
   },
   "outputs": [],
   "source": [
    "# Code here to create that plot\n",
    "types_count.plot(kind='bar');"
   ]
  },
  {
   "cell_type": "markdown",
   "metadata": {},
   "source": [
    "### Your Task: Improve This Visualization!\n",
    "\n",
    "Your goal is to visualize what you think the purpose of the plot is - adjust colors or plot type, add annotations, etc etc to make this plot more effective. You'll be in small groups for about 10 minutes, then we'll come back and share!"
   ]
  },
  {
   "cell_type": "code",
   "execution_count": null,
   "metadata": {},
   "outputs": [],
   "source": [
    "# Your code here"
   ]
  },
  {
   "cell_type": "markdown",
   "metadata": {},
   "source": [
    "<details>\n",
    "    <summary>Hidden code: One way to improve the plot</summary>\n",
    "    \n",
    "```python\n",
    "fig, ax = plt.subplots(figsize=(8, 6))\n",
    "\n",
    "# Making the bar chart horizonal to more easily read animal types\n",
    "ax.barh(types_count.index, types_count)\n",
    "\n",
    "# inverting y axis so it shows in size order\n",
    "ax.invert_yaxis()\n",
    "\n",
    "# looping over the animals to annotate with percentages\n",
    "for animal in types_count.index:\n",
    "    perc = (types_count[animal]/len(df))*100\n",
    "    if animal == \"Dog\": # so it doesn't go beyond the spline of the plot\n",
    "        ax.annotate(f\"{perc:.2f}%\", (types_count[animal] - 7500, animal))\n",
    "    else:\n",
    "        ax.annotate(f\"{perc:.2f}%\", (types_count[animal] + 1000, animal))\n",
    "        \n",
    "# adjusting the X axis format to add commas\n",
    "ax.xaxis.set_major_formatter(StrMethodFormatter('{x:,.0f}'))\n",
    "\n",
    "ax.set_title(\"Most Common Animal Types\")\n",
    "ax.set_ylabel(\"Animal Type\")\n",
    "ax.set_xlabel(\"Counts\")\n",
    "plt.show()\n",
    "```\n",
    "</details>"
   ]
  },
  {
   "cell_type": "markdown",
   "metadata": {},
   "source": [
    "Discuss:\n",
    "\n",
    "- \n"
   ]
  },
  {
   "cell_type": "markdown",
   "metadata": {
    "heading_collapsed": true
   },
   "source": [
    "## Creating Multiple Plots (Axes)"
   ]
  },
  {
   "cell_type": "markdown",
   "metadata": {
    "hidden": true
   },
   "source": [
    "Sometimes we want multiple plots to be a part of the same figure."
   ]
  },
  {
   "cell_type": "code",
   "execution_count": null,
   "metadata": {
    "hidden": true
   },
   "outputs": [],
   "source": [
    "fig, ax = plt.subplots(nrows=2, ncols=3, figsize=(8, 6))\n",
    "# The above line gives me a figure with six subplots,\n",
    "# arranged in two rows of three.\n",
    "\n",
    "X = np.linspace(-3, 3, 100)\n",
    "Ys = [[j*x for x in X] for j in range(1, 7)]\n",
    "\n",
    "ax[0, 0].plot(X, Ys[0], c='red')\n",
    "ax[0, 0].set_title('y=x')\n",
    "\n",
    "ax[0, 1].plot(X, Ys[1], c='orange')\n",
    "ax[0, 1].set_title('y=2x')\n",
    "\n",
    "ax[0, 2].plot(X, Ys[2], c='yellow')\n",
    "ax[0, 2].set_title('y=3x')\n",
    "\n",
    "ax[1, 0].plot(X, Ys[3], c='green')\n",
    "ax[1, 0].set_title('y=4x')\n",
    "\n",
    "ax[1, 1].plot(X, Ys[4], c='blue')\n",
    "ax[1, 1].set_title('y=5x')\n",
    "\n",
    "ax[1, 2].plot(X, Ys[5], c='purple')\n",
    "ax[1, 2].set_title('y=6x')\n",
    "\n",
    "plt.tight_layout()"
   ]
  },
  {
   "cell_type": "markdown",
   "metadata": {
    "heading_collapsed": true,
    "hidden": true
   },
   "source": [
    "#### Slightly Different Notation"
   ]
  },
  {
   "cell_type": "markdown",
   "metadata": {
    "hidden": true
   },
   "source": [
    "Note we could change the notation to unpack the passed axes in different ways. This can be useful in how we use the axis to make different plots."
   ]
  },
  {
   "cell_type": "code",
   "execution_count": null,
   "metadata": {
    "hidden": true
   },
   "outputs": [],
   "source": [
    "# This saves two arrays of axes representing each row and elements referring to \n",
    "# the columns\n",
    "fig, (ax_row0, ax_row1) = plt.subplots(nrows=2, ncols=3, figsize=(8, 6))\n",
    "\n",
    "Ys = [[j*x for x in X] for j in range(1, 7)]\n",
    "\n",
    "## First Row\n",
    "ax_row0[0].plot(X, Ys[0], c='red')\n",
    "ax_row0[0].set_title('y=x')\n",
    "\n",
    "ax_row0[1].plot(X, Ys[1], c='orange')\n",
    "ax_row0[1].set_title('y=2x')\n",
    "\n",
    "ax_row0[2].plot(X, Ys[2], c='yellow')\n",
    "ax_row0[2].set_title('y=3x')\n",
    "\n",
    "## Second Row\n",
    "ax_row1[0].plot(X, Ys[3], c='green')\n",
    "ax_row1[0].set_title('y=4x')\n",
    "\n",
    "ax_row1[1].plot(X, Ys[4], c='blue')\n",
    "ax_row1[1].set_title('y=5x')\n",
    "\n",
    "ax_row1[2].plot(X, Ys[5], c='purple')\n",
    "ax_row1[2].set_title('y=6x')\n",
    "\n",
    "plt.tight_layout()"
   ]
  },
  {
   "cell_type": "code",
   "execution_count": null,
   "metadata": {
    "hidden": true
   },
   "outputs": [],
   "source": [
    "# This unpacks each axis as a separate variable\n",
    "fig, ((ax00, ax01, ax02), (ax10, ax11, ax12)) = plt.subplots(nrows=2, ncols=3, figsize=(8, 6))\n",
    "\n",
    "Ys = [[j*x for x in X] for j in range(1, 7)]\n",
    "\n",
    "## First Row\n",
    "ax00.plot(X, Ys[0], c='red')\n",
    "ax00.set_title('y=x')\n",
    "\n",
    "ax01.plot(X, Ys[1], c='orange')\n",
    "ax01.set_title('y=2x')\n",
    "\n",
    "ax02.plot(X, Ys[2], c='yellow')\n",
    "ax02.set_title('y=3x')\n",
    "\n",
    "## Second Row\n",
    "ax10.plot(X, Ys[3], c='green')\n",
    "ax10.set_title('y=4x')\n",
    "\n",
    "ax11.plot(X, Ys[4], c='blue')\n",
    "ax11.set_title('y=5x')\n",
    "\n",
    "ax12.plot(X, Ys[5], c='purple')\n",
    "ax12.set_title('y=6x')\n",
    "\n",
    "plt.tight_layout()"
   ]
  },
  {
   "cell_type": "markdown",
   "metadata": {
    "heading_collapsed": true,
    "hidden": true
   },
   "source": [
    "#### Customize Multiple Plot Grid"
   ]
  },
  {
   "cell_type": "markdown",
   "metadata": {
    "hidden": true
   },
   "source": [
    "We can add some parameters to `plt.subplots()` that allow us to treat the different axes the same"
   ]
  },
  {
   "cell_type": "code",
   "execution_count": null,
   "metadata": {
    "hidden": true
   },
   "outputs": [],
   "source": [
    "nrows = 2\n",
    "ncols = 3\n",
    "fig, ax = plt.subplots(\n",
    "    nrows=nrows,\n",
    "    ncols=ncols,\n",
    "    figsize=(8, 6),\n",
    "    sharey=True     # This allows the y-axis to be consistent\n",
    ")\n",
    "\n",
    "\n",
    "Ys = [[j*x for x in X] for j in range(1, 7)]\n",
    "colors = ['red', 'orange', 'yellow', 'green', 'blue', 'purple']\n",
    "n = 0\n",
    "\n",
    "for r in range(nrows):\n",
    "    for c in range(ncols):\n",
    "        ax[r, c].plot(X, Ys[n], c=colors[n])\n",
    "        ax[r, c].set_title(f'y={n+1}x')\n",
    "        n += 1\n",
    "\n",
    "plt.tight_layout()"
   ]
  },
  {
   "cell_type": "markdown",
   "metadata": {
    "heading_collapsed": true
   },
   "source": [
    "-----\n",
    "\n",
    "# Level Up: "
   ]
  },
  {
   "cell_type": "markdown",
   "metadata": {},
   "source": [
    "## More on Effective Visualizations\n",
    "\n",
    "Some guidelines when creating **explanatory** visualizations (which should also apply to exploratory plots):\n",
    "\n",
    "- Each graph should have **one clear point** it is trying to make. Don't try to do too much with one plot!\n",
    "\n",
    "- **Know your audience!** Come up with a use case and audience to help guide your decision-making process - if you know your audience, and you know what they care about and what they need, everything in the process gets easier\n",
    "\n",
    "- Choose the correct graph for the relationship you are trying to communicate\n",
    "\n",
    "- Label your axes and graph! It should not be difficult for someone to understand what your graph is trying to represent\n",
    "\n",
    "- People have **unconscious responses** to visuals which will effect the way they interpret information. Good visualization makes use of these natural shortcuts in cognition to convey information more efficiently\n",
    "    - Red and Down tends to be negative while Green and Up is positive\n",
    "    - Lighter hues are seen as lower values and darker is higher values\n",
    "    - Axis start at zero\n",
    "        \n",
    "__Note:__ All of these 'rules' can be broken but know that you will be working against most people's first instinct"
   ]
  },
  {
   "cell_type": "markdown",
   "metadata": {},
   "source": [
    "### What Types Work Well Consistently"
   ]
  },
  {
   "cell_type": "markdown",
   "metadata": {},
   "source": [
    "Experts and researchers found the best visual patterns humans identify well:\n",
    "\n",
    "> - Positional changes (scatter plots)\n",
    "> - Length changes (bar charts)\n",
    "\n",
    "But we're bad at understanding other patterns...\n",
    "\n",
    "> - Color hue changes \n",
    "> - Area changes (pie charts!)"
   ]
  },
  {
   "cell_type": "markdown",
   "metadata": {},
   "source": [
    "### How to Lie with Graphs"
   ]
  },
  {
   "cell_type": "markdown",
   "metadata": {},
   "source": [
    "- Graphs can be misleading\n",
    "- Consciously or unconsciously people will make decisions to lead people towards their conclusions of the data\n",
    "\n",
    "- Examples of dark patterns\n",
    "    - Changing the axis scale\n",
    "    - Using two different y axis scales to compare trends\n",
    "    - Showing cumulative data which will always be increasing to hide a downturn in a trend\n",
    "    - Pie charts (comparing degrees is not something people are good at) just use a bar chart\n",
    "    - Inconsistent units\n",
    "    - Not showing all of the data for motivated reasons\n",
    "    - Percentages not adding up to 100\n",
    "\n",
    "<img src=\"images/pie-chart-misleading.png\">\n",
    "\n",
    "[image source](http://flowingdata.com/2009/11/26/fox-news-makes-the-best-pie-chart-ever/)"
   ]
  },
  {
   "cell_type": "markdown",
   "metadata": {
    "heading_collapsed": true,
    "hidden": true
   },
   "source": [
    "## Style Sheets"
   ]
  },
  {
   "cell_type": "markdown",
   "metadata": {
    "hidden": true
   },
   "source": [
    "[Style Sheets](https://matplotlib.org/3.1.1/gallery/style_sheets/style_sheets_reference.html) can add extra customization to your plots."
   ]
  },
  {
   "cell_type": "code",
   "execution_count": null,
   "metadata": {
    "hidden": true
   },
   "outputs": [],
   "source": [
    "# Uses this \"style\" for the rest of your notebook\n",
    "plt.style.use('fivethirtyeight')"
   ]
  },
  {
   "cell_type": "code",
   "execution_count": null,
   "metadata": {
    "hidden": true
   },
   "outputs": [],
   "source": [
    "## Showing a plot with this style\n",
    "fig, ax = plt.subplots()\n",
    "\n",
    "X = np.linspace(-3, 3, 100)\n",
    "y = X**2\n",
    "ax.plot(X, y)\n",
    "ax.set_title('Parabola with words')\n",
    "ax.text(s='random comment', x=0, y=3)\n",
    "ax.annotate(text='minimum!', xy=(0, 0), xytext=(1, -4),\n",
    "           arrowprops={'facecolor': 'black'});"
   ]
  },
  {
   "cell_type": "code",
   "execution_count": null,
   "metadata": {
    "hidden": true
   },
   "outputs": [],
   "source": [
    "# Go back to the default style \n",
    "plt.style.use('default')"
   ]
  },
  {
   "cell_type": "markdown",
   "metadata": {
    "heading_collapsed": true,
    "hidden": true
   },
   "source": [
    "### Context Manager for Temporary Style"
   ]
  },
  {
   "cell_type": "markdown",
   "metadata": {
    "hidden": true
   },
   "source": [
    "We can have temporary style change by using a [context manager for our style](https://matplotlib.org/stable/tutorials/introductory/customizing.html#temporary-styling)."
   ]
  },
  {
   "cell_type": "code",
   "execution_count": null,
   "metadata": {
    "hidden": true
   },
   "outputs": [],
   "source": [
    "# Allows your us to use a temporary style just for the plot in block of code\n",
    "with plt.style.context('ggplot'):\n",
    "    fig, ax = plt.subplots()\n",
    "\n",
    "    X = np.linspace(-3, 3, 100)\n",
    "    y = X**2\n",
    "    ax.plot(X, y)\n",
    "    ax.set_title('Parabola with words')\n",
    "    ax.text(s='random comment', x=0, y=3)\n",
    "    ax.annotate('minimum!', xy=(0, 0), xytext=(1, -4),\n",
    "                arrowprops={'facecolor': 'black'})"
   ]
  },
  {
   "cell_type": "markdown",
   "metadata": {
    "heading_collapsed": true,
    "hidden": true
   },
   "source": [
    "### The xkcd Style"
   ]
  },
  {
   "cell_type": "markdown",
   "metadata": {
    "hidden": true
   },
   "source": [
    "The [xkcd style](https://matplotlib.org/stable/api/_as_gen/matplotlib.pyplot.xkcd.html) can be a convenient style when you want to emphasize that the data shouldn't be taken seriously (such as an estimate versus showing real data)."
   ]
  },
  {
   "cell_type": "code",
   "execution_count": null,
   "metadata": {
    "hidden": true
   },
   "outputs": [],
   "source": [
    "# This also allows to use the xkcd style temporarily\n",
    "with plt.xkcd():\n",
    "    fig, ax = plt.subplots()\n",
    "\n",
    "    X = np.linspace(-3, 3, 100)\n",
    "    y = X**2\n",
    "    ax.plot(X, y)\n",
    "    ax.set_title('Parabola with words')\n",
    "    ax.text(s='random comment', x=0, y=3)\n",
    "    ax.annotate('minimum!', xy=(0, 0), xytext=(1, -4),\n",
    "                arrowprops={'facecolor': 'black'})"
   ]
  }
 ],
 "metadata": {
  "kernelspec": {
   "display_name": "Python 3",
   "language": "python",
   "name": "python3"
  },
  "language_info": {
   "codemirror_mode": {
    "name": "ipython",
    "version": 3
   },
   "file_extension": ".py",
   "mimetype": "text/x-python",
   "name": "python",
   "nbconvert_exporter": "python",
   "pygments_lexer": "ipython3",
   "version": "3.11.5"
  },
  "toc": {
   "base_numbering": 1,
   "nav_menu": {},
   "number_sections": true,
   "sideBar": true,
   "skip_h1_title": false,
   "title_cell": "Table of Contents",
   "title_sidebar": "TOC",
   "toc_cell": true,
   "toc_position": {
    "height": "calc(100% - 180px)",
    "left": "10px",
    "top": "150px",
    "width": "292px"
   },
   "toc_section_display": true,
   "toc_window_display": true
  }
 },
 "nbformat": 4,
 "nbformat_minor": 4
}
